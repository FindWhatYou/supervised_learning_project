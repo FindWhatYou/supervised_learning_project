{
 "cells": [
  {
   "cell_type": "code",
   "execution_count": 206,
   "metadata": {},
   "outputs": [],
   "source": [
    "import pandas as pd\n",
    "from sklearn.model_selection import train_test_split\n",
    "from sklearn.impute import SimpleImputer\n",
    "from sklearn.tree import DecisionTreeClassifier\n",
    "from sklearn.pipeline import make_pipeline\n",
    "from sklearn.preprocessing import OneHotEncoder\n",
    "from sklearn.preprocessing import OrdinalEncoder\n",
    "from sklearn.compose import ColumnTransformer\n",
    "from sklearn.metrics import confusion_matrix, accuracy_score, roc_auc_score, roc_curve\n",
    "from sklearn.metrics import f1_score\n",
    "from sklearn.metrics import cohen_kappa_score"
   ]
  },
  {
   "cell_type": "code",
   "execution_count": 207,
   "metadata": {},
   "outputs": [],
   "source": [
    "# Define a function to generate a shareable link from a Google Drive file ID\n",
    "def gd_path(file_id):\n",
    "    return f\"https://drive.google.com/uc?export=download&id={file_id}\"\n",
    "\n",
    "# Define file IDs for different datasets and an ID for the project\n",
    "files_id = {\n",
    "    'mush_data': \"1ErjUx-K9Az--O73ji-rwVPsmg0H9JFR6\",      # Mushroom training data\n",
    "    'test_mush_data': \"1DflyaLjlyxNoebKHOSBqB0GkPe1z7qaf\", # Test data for mushrooms\n",
    "    'ids_com': \"1CsRSHVvnecwpTteh6kkKjwkqp3pThIHh\"        # ID for the project\n",
    "}\n",
    "\n",
    "# Read the mushroom training data from Google Drive using the file ID\n",
    "mush_data = pd.read_csv(gd_path(files_id['mush_data']), sep=\",\")\n",
    "\n",
    "# Read the test data for mushrooms from Google Drive using the file ID\n",
    "test_mush_data = pd.read_csv(gd_path(files_id['test_mush_data']), sep=\",\")\n",
    "\n",
    "# Read the ID data for the project from Google Drive using the file ID\n",
    "ids_com = pd.read_csv(gd_path(files_id['ids_com']), sep=\",\")\n",
    "\n",
    "# Assign the mushroom training data to the DataFrame 'df'\n",
    "df = mush_data"
   ]
  },
  {
   "cell_type": "markdown",
   "metadata": {},
   "source": [
    "# Pre-Processing Pipe"
   ]
  },
  {
   "cell_type": "code",
   "execution_count": 208,
   "metadata": {},
   "outputs": [],
   "source": [
    "# X and y creation\n",
    "y = df.pop(\"poisonous\")\n",
    "\n",
    "# Feature Engineering\n",
    "X = df.drop('Id', axis=1)\n",
    "\n",
    "# data splitting\n",
    "X_train, X_test, y_train, y_test = train_test_split(X, y, test_size=0.2, random_state=123)"
   ]
  },
  {
   "cell_type": "code",
   "execution_count": 209,
   "metadata": {},
   "outputs": [],
   "source": [
    "# building the pipeline\n",
    "X_cat = X.select_dtypes(exclude=\"number\").copy()\n",
    "X_num = X.select_dtypes(include=\"number\").copy()\n",
    "\n",
    "#  numerical pipeline\n",
    "numeric_pipe = make_pipeline(\n",
    "    SimpleImputer(strategy=\"mean\"))\n",
    "\n",
    "onehot_cols = X_cat.columns.get_indexer(['cap.shape', 'cap.color', 'bruises', 'stalk.color.above.ring',\n",
    "       'stalk.color.below.ring', 'population'])\n",
    "\n",
    "categorical_encoder = ColumnTransformer(\n",
    "    transformers=[\n",
    "        (\"cat_onehot\", OneHotEncoder(handle_unknown=\"ignore\"), onehot_cols)\n",
    "    ]\n",
    ")\n",
    "\n",
    "categoric_pipe = make_pipeline(\n",
    "    SimpleImputer(strategy=\"constant\", fill_value=\"N_A\"),\n",
    "    categorical_encoder \n",
    ")\n",
    "\n",
    "preprocessor = ColumnTransformer(\n",
    "    transformers=[\n",
    "        (\"num_pipe\", numeric_pipe, X_num.columns),\n",
    "        (\"cat_pipe\", categoric_pipe, X_cat.columns),\n",
    "    ]\n",
    ")"
   ]
  },
  {
   "cell_type": "markdown",
   "metadata": {},
   "source": [
    "# Models"
   ]
  },
  {
   "cell_type": "markdown",
   "metadata": {},
   "source": [
    "## Decisiontree - Creation"
   ]
  },
  {
   "cell_type": "code",
   "execution_count": 181,
   "metadata": {},
   "outputs": [
    {
     "name": "stdout",
     "output_type": "stream",
     "text": [
      "Fitting 5 folds for each of 60 candidates, totalling 300 fits\n"
     ]
    },
    {
     "data": {
      "text/plain": [
       "{'dtree': 0.9557620122899237}"
      ]
     },
     "execution_count": 181,
     "metadata": {},
     "output_type": "execute_result"
    }
   ],
   "source": [
    "from sklearn.model_selection import GridSearchCV\n",
    "\n",
    "full_pipeline = make_pipeline(preprocessor,\n",
    "                              DecisionTreeClassifier(class_weight='balanced'))\n",
    "\n",
    "param_grid = {\n",
    "    \"columntransformer__num_pipe__simpleimputer__strategy\":[\"mean\", \"median\"],\n",
    "    \"decisiontreeclassifier__max_depth\": range(2, 14, 2),\n",
    "    \"decisiontreeclassifier__min_samples_leaf\": range(3, 12, 2)\n",
    "}\n",
    "\n",
    "\n",
    "search = GridSearchCV(full_pipeline,\n",
    "                      param_grid,\n",
    "                      cv=5,\n",
    "                      verbose=1)\n",
    "\n",
    "search.fit(X_train, y_train)\n",
    "\n",
    "\n",
    "scores = {\"dtree\" : search.best_score_}\n",
    "\n",
    "# After fitting the model\n",
    "search.best_estimator_.threshold = 0.01  # Adjust the threshold as needed\n",
    "\n",
    "scores"
   ]
  },
  {
   "cell_type": "markdown",
   "metadata": {},
   "source": [
    "## Decisiontree - Analysis"
   ]
  },
  {
   "cell_type": "code",
   "execution_count": 182,
   "metadata": {},
   "outputs": [
    {
     "name": "stdout",
     "output_type": "stream",
     "text": [
      "Training Accuracy: 0.957\n",
      "Testing Accuracy: 0.964 \n",
      "\n",
      "Confusion Matrix (Training):\n",
      " [[2495  176]\n",
      " [  45 2483]] \n",
      "\n",
      "Confusion Matrix (Testing):\n",
      " [[634  37]\n",
      " [ 10 619]] \n",
      "\n",
      "F-Score:\n",
      "\n",
      "Training Score: 0.957\n",
      "Testing Score: 0.963 \n",
      "\n",
      "Kappa-Score:\n",
      "\n",
      "Training Score: 0.915\n",
      "Testing Score: 0.928\n"
     ]
    }
   ],
   "source": [
    "\n",
    "# Get predictions for the training and testing datasets\n",
    "y_train_pred = search.predict(X_train)\n",
    "y_test_pred = search.predict(X_test)\n",
    "\n",
    "# Create confusion matrices\n",
    "confusion_matrix_train = confusion_matrix(y_train, y_train_pred)\n",
    "confusion_matrix_test = confusion_matrix(y_test, y_test_pred)\n",
    "\n",
    "# Calculate accuracy for training and testing datasets\n",
    "accuracy_train = accuracy_score(y_train, y_train_pred)\n",
    "accuracy_test = accuracy_score(y_test, y_test_pred)\n",
    "\n",
    "print(\"Training Accuracy:\", round(accuracy_train,3))\n",
    "print(\"Testing Accuracy:\", round(accuracy_test,3),\"\\n\")\n",
    "\n",
    "print(\"Confusion Matrix (Training):\\n\", confusion_matrix_train,\"\\n\")\n",
    "print(\"Confusion Matrix (Testing):\\n\", confusion_matrix_test,\"\\n\")\n",
    "\n",
    "print(\"F-Score:\\n\")\n",
    "print(\"Training Score:\", round(f1_score(y_train,y_train_pred),3))\n",
    "print(\"Testing Score:\", round(f1_score(y_test,y_test_pred),3),\"\\n\")\n",
    "\n",
    "print(\"Kappa-Score:\\n\")\n",
    "print(\"Training Score:\", round(cohen_kappa_score(y_train,y_train_pred),3))\n",
    "print(\"Testing Score:\", round(cohen_kappa_score(y_test,y_test_pred),3))"
   ]
  },
  {
   "cell_type": "code",
   "execution_count": 183,
   "metadata": {},
   "outputs": [],
   "source": [
    "import matplotlib.pyplot as plt\n",
    "\n",
    "def plot_roc_curve(true_y, y_prob):\n",
    "    \"\"\"\n",
    "    plots the roc curve based of the probabilities\n",
    "    \"\"\"\n",
    "\n",
    "    fpr, tpr, thresholds = roc_curve(true_y, y_prob)\n",
    "    plt.plot(fpr, tpr)\n",
    "    plt.xlabel('False Positive Rate')\n",
    "    plt.ylabel('True Positive Rate')"
   ]
  },
  {
   "cell_type": "code",
   "execution_count": 223,
   "metadata": {},
   "outputs": [
    {
     "name": "stdout",
     "output_type": "stream",
     "text": [
      "Fitting 5 folds for each of 30 candidates, totalling 150 fits\n",
      "Training Accuracy: 0.941\n",
      "Testing Accuracy: 0.945 \n",
      "\n",
      "Confusion Matrix (Training):\n",
      " [[2366  305]\n",
      " [   0 2528]] \n",
      "\n",
      "Confusion Matrix (Testing):\n",
      " [[600  71]\n",
      " [  1 628]] \n",
      "\n",
      "F-Score:\n",
      "\n",
      "Training Score: 0.943\n",
      "Testing Score: 0.946 \n",
      "\n",
      "Kappa-Score:\n",
      "\n",
      "Training Score: 0.883\n",
      "Testing Score: 0.889\n"
     ]
    }
   ],
   "source": [
    "from sklearn.pipeline import make_pipeline\n",
    "from sklearn.tree import DecisionTreeClassifier\n",
    "from sklearn.model_selection import GridSearchCV\n",
    "from sklearn.metrics import confusion_matrix, accuracy_score, f1_score, cohen_kappa_score\n",
    "\n",
    "# Define your preprocessing steps in the 'preprocessor' variable\n",
    "# For example, you can use sklearn's ColumnTransformer and other transformers\n",
    "\n",
    "full_pipeline = make_pipeline(preprocessor, DecisionTreeClassifier(class_weight='balanced'))\n",
    "\n",
    "param_grid = {\n",
    "    \"decisiontreeclassifier__max_depth\": range(2, 14, 2),\n",
    "    \"decisiontreeclassifier__min_samples_leaf\": range(3, 12, 2)\n",
    "}\n",
    "\n",
    "search_33 = GridSearchCV(full_pipeline, param_grid, cv=5, verbose=1)\n",
    "search_33.fit(X_train, y_train)\n",
    "\n",
    "# Get predictions for the training and testing datasets\n",
    "y_train_prob = search_33.predict_proba(X_train)[:, 1]  # Probability of being positive\n",
    "y_test_prob = search_33.predict_proba(X_test)[:, 1]    # Probability of being positive\n",
    "\n",
    "# Adjust the decision threshold to minimize False Negatives (FN)\n",
    "threshold = 0.1  # Adjust this threshold as needed\n",
    "y_train_pred = (y_train_prob > threshold).astype(int)\n",
    "y_test_pred = (y_test_prob > threshold).astype(int)\n",
    "\n",
    "# Create confusion matrices\n",
    "confusion_matrix_train = confusion_matrix(y_train, y_train_pred)\n",
    "confusion_matrix_test = confusion_matrix(y_test, y_test_pred)\n",
    "\n",
    "# Calculate accuracy for training and testing datasets\n",
    "accuracy_train = accuracy_score(y_train, y_train_pred)\n",
    "accuracy_test = accuracy_score(y_test, y_test_pred)\n",
    "\n",
    "print(\"Training Accuracy:\", round(accuracy_train, 3))\n",
    "print(\"Testing Accuracy:\", round(accuracy_test, 3), \"\\n\")\n",
    "\n",
    "print(\"Confusion Matrix (Training):\\n\", confusion_matrix_train, \"\\n\")\n",
    "print(\"Confusion Matrix (Testing):\\n\", confusion_matrix_test, \"\\n\")\n",
    "\n",
    "print(\"F-Score:\\n\")\n",
    "print(\"Training Score:\", round(f1_score(y_train, y_train_pred), 3))\n",
    "print(\"Testing Score:\", round(f1_score(y_test, y_test_pred), 3), \"\\n\")\n",
    "\n",
    "print(\"Kappa-Score:\\n\")\n",
    "print(\"Training Score:\", round(cohen_kappa_score(y_train, y_train_pred), 3))\n",
    "print(\"Testing Score:\", round(cohen_kappa_score(y_test, y_test_pred), 3))\n"
   ]
  },
  {
   "cell_type": "code",
   "execution_count": 211,
   "metadata": {},
   "outputs": [
    {
     "name": "stdout",
     "output_type": "stream",
     "text": [
      "model 1 AUC score: 0.9429052789217521\n"
     ]
    },
    {
     "data": {
      "image/png": "[encoded data removed]",
      "text/plain": [
       "<Figure size 640x480 with 1 Axes>"
      ]
     },
     "metadata": {},
     "output_type": "display_data"
    }
   ],
   "source": [
    "plot_roc_curve(y_train, y_train_pred)\n",
    "print(f'model 1 AUC score: {roc_auc_score(y_train, y_train_pred)}')"
   ]
  },
  {
   "cell_type": "markdown",
   "metadata": {},
   "source": [
    "## KNN\n"
   ]
  },
  {
   "cell_type": "code",
   "execution_count": 185,
   "metadata": {},
   "outputs": [
    {
     "name": "stdout",
     "output_type": "stream",
     "text": [
      "Fitting 10 folds for each of 18 candidates, totalling 180 fits\n"
     ]
    },
    {
     "data": {
      "text/plain": [
       "{'knn': 0.9557620122899237}"
      ]
     },
     "execution_count": 185,
     "metadata": {},
     "output_type": "execute_result"
    }
   ],
   "source": [
    "# Modeling Pipe - 2\n",
    "\n",
    "from sklearn.model_selection import GridSearchCV\n",
    "from sklearn.neighbors import KNeighborsClassifier\n",
    "\n",
    "\n",
    "full_pipeline = make_pipeline(preprocessor,\n",
    "                              KNeighborsClassifier())\n",
    "\n",
    "param_grid = {\n",
    "    \"columntransformer__num_pipe__simpleimputer__strategy\":[\"mean\", \"median\"],\n",
    "    \"kneighborsclassifier__n_neighbors\": range(3, 20, 2)\n",
    "}\n",
    "\n",
    "search2 = GridSearchCV(full_pipeline,\n",
    "                      param_grid,\n",
    "                      cv=10,\n",
    "                      verbose=1)\n",
    "\n",
    "search2.fit(X_train, y_train)\n",
    "\n",
    "# After fitting the model\n",
    "search2.best_estimator_.threshold = 0.3  # Adjust the threshold as needed\n",
    "\n",
    "\n",
    "scores2 = {\"knn\" : search.best_score_}\n",
    "\n",
    "scores2\n"
   ]
  },
  {
   "cell_type": "markdown",
   "metadata": {},
   "source": [
    "## KNN - Analysis"
   ]
  },
  {
   "cell_type": "markdown",
   "metadata": {},
   "source": [
    "### Confusion Matrix"
   ]
  },
  {
   "cell_type": "code",
   "execution_count": 192,
   "metadata": {},
   "outputs": [
    {
     "name": "stdout",
     "output_type": "stream",
     "text": [
      "Training Accuracy: 0.958\n",
      "Testing Accuracy: 0.965 \n",
      "\n",
      "Confusion Matrix (Training):\n",
      " [[2557  114]\n",
      " [ 106 2422]] \n",
      "\n",
      "Confusion Matrix (Testing):\n",
      " [[649  22]\n",
      " [ 24 605]] \n",
      "\n",
      "F-Score:\n",
      "\n",
      "Training Score: 0.957\n",
      "Testing Score: 0.963 \n",
      "\n",
      "Kappa-Score:\n",
      "\n",
      "Training Score: 0.915\n",
      "Testing Score: 0.929\n"
     ]
    }
   ],
   "source": [
    "# Get predictions for the training and testing datasets\n",
    "y_train_pred = search2.predict(X_train)\n",
    "y_test_pred = search2.predict(X_test)\n",
    "\n",
    "# Create confusion matrices\n",
    "confusion_matrix_train = confusion_matrix(y_train, y_train_pred)\n",
    "confusion_matrix_test = confusion_matrix(y_test, y_test_pred)\n",
    "\n",
    "# Calculate accuracy for training and testing datasets\n",
    "accuracy_train = accuracy_score(y_train, y_train_pred)\n",
    "accuracy_test = accuracy_score(y_test, y_test_pred)\n",
    "\n",
    "print(\"Training Accuracy:\", round(accuracy_train,3))\n",
    "print(\"Testing Accuracy:\", round(accuracy_test,3),\"\\n\")\n",
    "\n",
    "print(\"Confusion Matrix (Training):\\n\", confusion_matrix_train,\"\\n\")\n",
    "print(\"Confusion Matrix (Testing):\\n\", confusion_matrix_test,\"\\n\")\n",
    "\n",
    "print(\"F-Score:\\n\")\n",
    "print(\"Training Score:\", round(f1_score(y_train,y_train_pred),3))\n",
    "print(\"Testing Score:\", round(f1_score(y_test,y_test_pred),3),\"\\n\")\n",
    "\n",
    "print(\"Kappa-Score:\\n\")\n",
    "print(\"Training Score:\", round(cohen_kappa_score(y_train,y_train_pred),3))\n",
    "print(\"Testing Score:\", round(cohen_kappa_score(y_test,y_test_pred),3))"
   ]
  },
  {
   "cell_type": "code",
   "execution_count": 187,
   "metadata": {},
   "outputs": [
    {
     "name": "stdout",
     "output_type": "stream",
     "text": [
      "model 1 AUC score: 0.9581532215450526\n"
     ]
    },
    {
     "data": {
      "image/png": "[encoded data removed]",
      "text/plain": [
       "<Figure size 640x480 with 1 Axes>"
      ]
     },
     "metadata": {},
     "output_type": "display_data"
    }
   ],
   "source": [
    "plot_roc_curve(y_train, y_train_pred)\n",
    "print(f'model 1 AUC score: {roc_auc_score(y_train, y_train_pred)}')"
   ]
  },
  {
   "cell_type": "markdown",
   "metadata": {},
   "source": [
    "## RandomForest- Creation"
   ]
  },
  {
   "cell_type": "code",
   "execution_count": 188,
   "metadata": {},
   "outputs": [
    {
     "name": "stdout",
     "output_type": "stream",
     "text": [
      "Fitting 5 folds for each of 10 candidates, totalling 50 fits\n",
      "Best parameters:  {'columntransformer__num_pipe__simpleimputer__strategy': 'median', 'randomforestclassifier__max_depth': 8, 'randomforestclassifier__n_estimators': 500}\n"
     ]
    },
    {
     "data": {
      "text/plain": [
       "{'rf': 0.9436444066039831}"
      ]
     },
     "execution_count": 188,
     "metadata": {},
     "output_type": "execute_result"
    }
   ],
   "source": [
    "from sklearn.ensemble import RandomForestClassifier\n",
    "from sklearn.model_selection import GridSearchCV\n",
    "\n",
    "full_pipeline = make_pipeline(preprocessor,\n",
    "                              RandomForestClassifier())\n",
    "\n",
    "param_grid = {\n",
    "    \"columntransformer__num_pipe__simpleimputer__strategy\":[\"median\"],\n",
    "    \"randomforestclassifier__n_estimators\": [200, 500],\n",
    "    'randomforestclassifier__max_depth' : [4,5,6,7,8],\n",
    "}\n",
    "\n",
    "# need to be rearange \n",
    "search4 = GridSearchCV(full_pipeline,\n",
    "                      param_grid,\n",
    "                      cv=5,\n",
    "                      verbose=1)\n",
    "\n",
    "search4.fit(X_train, y_train)\n",
    "\n",
    "# After fitting the model\n",
    "search4.best_estimator_.threshold = 0.3  # Adjust the threshold as needed\n",
    "\n",
    "\n",
    "scores4 = {\"rf\" : search4.best_score_}\n",
    "print(\"Best parameters: \", search4.best_params_)\n",
    "scores4"
   ]
  },
  {
   "cell_type": "markdown",
   "metadata": {},
   "source": [
    "## RandomForest - Analysis"
   ]
  },
  {
   "cell_type": "code",
   "execution_count": 189,
   "metadata": {},
   "outputs": [
    {
     "name": "stdout",
     "output_type": "stream",
     "text": [
      "Training Accuracy: 0.945\n",
      "Testing Accuracy: 0.947 \n",
      "\n",
      "Confusion Matrix (Training):\n",
      " [[2582   89]\n",
      " [ 199 2329]] \n",
      "\n",
      "Confusion Matrix (Testing):\n",
      " [[650  21]\n",
      " [ 48 581]] \n",
      "\n",
      "F-Score:\n",
      "\n",
      "Training Score: 0.942\n",
      "Testing Score: 0.944 \n",
      "\n",
      "Kappa-Score:\n",
      "\n",
      "Training Score: 0.889\n",
      "Testing Score: 0.894\n"
     ]
    }
   ],
   "source": [
    "# Get predictions for the training and testing datasets\n",
    "y_train_pred = search4.predict(X_train)\n",
    "y_test_pred = search4.predict(X_test)\n",
    "\n",
    "# Create confusion matrices\n",
    "confusion_matrix_train = confusion_matrix(y_train, y_train_pred)\n",
    "confusion_matrix_test = confusion_matrix(y_test, y_test_pred)\n",
    "\n",
    "# Calculate accuracy for training and testing datasets\n",
    "accuracy_train = accuracy_score(y_train, y_train_pred)\n",
    "accuracy_test = accuracy_score(y_test, y_test_pred)\n",
    "\n",
    "print(\"Training Accuracy:\", round(accuracy_train,3))\n",
    "print(\"Testing Accuracy:\", round(accuracy_test,3),\"\\n\")\n",
    "\n",
    "print(\"Confusion Matrix (Training):\\n\", confusion_matrix_train,\"\\n\")\n",
    "print(\"Confusion Matrix (Testing):\\n\", confusion_matrix_test,\"\\n\")\n",
    "\n",
    "print(\"F-Score:\\n\")\n",
    "print(\"Training Score:\", round(f1_score(y_train,y_train_pred),3))\n",
    "print(\"Testing Score:\", round(f1_score(y_test,y_test_pred),3),\"\\n\")\n",
    "\n",
    "print(\"Kappa-Score:\\n\")\n",
    "print(\"Training Score:\", round(cohen_kappa_score(y_train,y_train_pred),3))\n",
    "print(\"Testing Score:\", round(cohen_kappa_score(y_test,y_test_pred),3))"
   ]
  },
  {
   "cell_type": "code",
   "execution_count": 190,
   "metadata": {},
   "outputs": [
    {
     "name": "stdout",
     "output_type": "stream",
     "text": [
      "model 1 AUC score: 0.9439803959783706\n"
     ]
    },
    {
     "data": {
      "image/png": "[encoded data removed]",
      "text/plain": [
       "<Figure size 640x480 with 1 Axes>"
      ]
     },
     "metadata": {},
     "output_type": "display_data"
    }
   ],
   "source": [
    "plot_roc_curve(y_train, y_train_pred)\n",
    "print(f'model 1 AUC score: {roc_auc_score(y_train, y_train_pred)}')"
   ]
  },
  {
   "cell_type": "markdown",
   "metadata": {},
   "source": [
    "# Downloand"
   ]
  },
  {
   "cell_type": "code",
   "execution_count": 216,
   "metadata": {},
   "outputs": [],
   "source": [
    "# Define X_sumbmition as the test_mush_data\n",
    "X_sumbmition = test_mush_data\n",
    "\n",
    "# Use the trained model (search_33) to predict 'poisonous' for X_sumbmition\n",
    "ids_com['poisonous'] = search_33.predict(X_sumbmition)\n",
    "\n",
    "# Save the predictions to a CSV file named 'submission_33.csv'\n",
    "ids_com.to_csv(r'submission_33.csv', index=False)"
   ]
  },
  {
   "cell_type": "markdown",
   "metadata": {},
   "source": [
    "## Using an Threshold"
   ]
  },
  {
   "cell_type": "code",
   "execution_count": 222,
   "metadata": {},
   "outputs": [],
   "source": [
    "# Predict probabilities of being positive using your model (search_33)\n",
    "y_sumbmition_prob = search_33.predict_proba(X_sumbmition)[:, 1]\n",
    "\n",
    "# Adjust the threshold to minimize False Negatives (FN)\n",
    "threshold = 0.01  # You can adjust this threshold as needed to control the trade-off between FN and FP\n",
    "\n",
    "# Update the 'poisonous' column in ids_com based on the adjusted threshold\n",
    "ids_com['poisonous'] = (y_sumbmition_prob > threshold).astype(int)\n",
    "\n",
    "# Save the modified predictions to a CSV file named 'submission_01.csv'\n",
    "ids_com.to_csv(r'submission_01.csv', index=False)"
   ]
  },
  {
   "cell_type": "markdown",
   "metadata": {},
   "source": [
    "## Dummy Model"
   ]
  },
  {
   "cell_type": "code",
   "execution_count": 224,
   "metadata": {},
   "outputs": [],
   "source": [
    "# Define X_sumbmition as the test_mush_data\n",
    "X_sumbmition = test_mush_data\n",
    "\n",
    "# Assign a constant value of 1 to the 'poisonous' column in the ids_com DataFrame\n",
    "ids_com['poisonous'] = 1\n",
    "\n",
    "# Save the DataFrame with constant values to a CSV file named 'submission_dumm.csv'\n",
    "ids_com.to_csv(r'submission_dumm.csv', index=False)"
   ]
  }
 ],
 "metadata": {
  "kernelspec": {
   "display_name": "Python 3 (ipykernel)",
   "language": "python",
   "name": "python3"
  },
  "language_info": {
   "codemirror_mode": {
    "name": "ipython",
    "version": 3
   },
   "file_extension": ".py",
   "mimetype": "text/x-python",
   "name": "python",
   "nbconvert_exporter": "python",
   "pygments_lexer": "ipython3",
   "version": "3.11.3"
  },
  "orig_nbformat": 4
 },
 "nbformat": 4,
 "nbformat_minor": 2
}
