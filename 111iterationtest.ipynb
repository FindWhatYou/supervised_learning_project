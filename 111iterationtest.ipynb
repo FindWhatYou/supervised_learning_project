{
 "cells": [
  {
   "cell_type": "code",
   "execution_count": null,
   "metadata": {},
   "outputs": [],
   "source": [
    "import nbformat as nbf\n",
    "#from nbclient import NotebookClient this is for auto execute which isnt in yet\n",
    "import os\n",
    "# Load the existing Jupyter Notebook file\n",
    "nb = nbf.read(\"111iterationtest.ipynb\", nbf.NO_CONVERT)\n",
    "\n",
    "#fancy algorithm including some plot\n",
    "#GET#\n",
    "#placeholder\n",
    "x= x+1\n",
    "\n",
    "#placeholder\n",
    "#GET#\n",
    "\n",
    "# Get the Python code from the current code cell\n",
    "# Find the index of the current code cell\n",
    "current_index = None\n",
    "for i, cell in enumerate(nb[\"cells\"]):\n",
    "    if cell[\"cell_type\"] == \"code\" and cell[\"source\"].startswith(\"import nbformat\"):\n",
    "        current_index = i\n",
    "        break\n",
    "\n",
    "# Get the Python code from the current code cell\n",
    "if current_index is not None:\n",
    "    current_code_cell = nb[\"cells\"][current_index]\n",
    "    python_code = current_code_cell[\"source\"].split(\"#GET#\")[1].split(\"#GET#\")[0].strip()\n",
    "else:\n",
    "    python_code = \"\"\n",
    "#on first iteration create iteration_n where n=1 as topic for markdown cell, for following use n \n",
    "# Find the number of existing Markdown cells with the name \"iteration\"\n",
    "n = 1\n",
    "for cell in nb[\"cells\"]:\n",
    "    if cell[\"cell_type\"] == \"markdown\" and \"iteration\" in cell[\"metadata\"].get(\"tags\", []):\n",
    "        n += 1\n",
    "# Create a new Markdown cell\n",
    "markdown_cell = nbf.v4.new_markdown_cell(f\"## iteration_{n}\")\n",
    "markdown_cell.metadata[\"tags\"] = [\"iteration\"]\n",
    "nb[\"cells\"].append(markdown_cell)\n",
    "#copypast the code from \"#fancy algorithm including some plot #placeholder\" to the following created cell\n",
    "# Create a new code cell\n",
    "code_cell = nbf.v4.new_code_cell(python_code)\n",
    "nb[\"cells\"].append(code_cell)\n",
    "#client.execute_cell(codecelltoexecute) as inspiration\n",
    "# Remove the existing Jupyter Notebook file\n",
    "os.remove(\"111iterationtest.ipynb\")\n",
    "\n",
    "# Save the modified Jupyter Notebook file\n",
    "nbf.write(nb, \"111iterationtest.ipynb\")"
   ]
  },
  {
   "cell_type": "markdown",
   "id": "cc5e8298",
   "metadata": {
    "tags": [
     "iteration"
    ]
   },
   "source": [
    "## iteration_1"
   ]
  },
  {
   "cell_type": "code",
   "execution_count": null,
   "id": "3be5f444",
   "metadata": {},
   "outputs": [],
   "source": [
    "#placeholder\n",
    "x= x+1\n",
    "\n",
    "#placeholder"
   ]
  }
 ],
 "metadata": {
  "kernelspec": {
   "display_name": "test",
   "language": "python",
   "name": "python3"
  },
  "language_info": {
   "codemirror_mode": {
    "name": "ipython",
    "version": 3
   },
   "file_extension": ".py",
   "mimetype": "text/x-python",
   "name": "python",
   "nbconvert_exporter": "python",
   "pygments_lexer": "ipython3",
   "version": "3.8.17"
  }
 },
 "nbformat": 4,
 "nbformat_minor": 2
}
