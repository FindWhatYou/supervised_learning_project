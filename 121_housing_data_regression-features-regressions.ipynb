{
 "cells": [
  {
   "cell_type": "code",
   "execution_count": 14,
   "metadata": {},
   "outputs": [],
   "source": [
    "import pandas as pd\n",
    "import seaborn as sns\n",
    "import matplotlib.pyplot as plt\n",
    "from sklearn.model_selection import train_test_split\n",
    "from sklearn.impute import SimpleImputer\n",
    "from sklearn.tree import DecisionTreeClassifier\n",
    "from sklearn.pipeline import make_pipeline\n",
    "from sklearn.preprocessing import OneHotEncoder\n",
    "from sklearn.preprocessing import OrdinalEncoder\n",
    "from sklearn.preprocessing import MinMaxScaler\n",
    "from sklearn.compose import ColumnTransformer\n",
    "from sklearn.metrics import confusion_matrix, accuracy_score\n",
    "from sklearn.metrics import accuracy_score\n",
    "from sklearn.metrics import r2_score\n",
    "from sklearn.metrics import mean_absolute_percentage_error\n",
    "from sklearn.feature_selection import VarianceThreshold, SelectKBest, f_regression, RFECV, SelectFromModel\n",
    "from sklearn.linear_model import LinearRegression, SGDRegressor"
   ]
  },
  {
   "cell_type": "code",
   "execution_count": 15,
   "metadata": {},
   "outputs": [],
   "source": [
    "def gd_path(file_id):\n",
    "    \"\"\"Generate a shareable link from Google Drive file id.\"\"\"\n",
    "    return f\"https://drive.google.com/uc?export=download&id={file_id}\"\n",
    "\n",
    "files_id = {\n",
    "    'housing_data':\"1kX_jcLeBpBGvTo8FXDeU2MK-aw1a0voU\", #iteration7 data\n",
    "    'test_housing_data':\"1CMsAWhWKWBjI6DDEHtcYmRVZRazfE9bo\", #test data for housing\n",
    "    'ids_com':\"10gwiL49calkj-xbx-3rQEK4H2zoJcU11\" #ID for the commiting of the project\n",
    "\n",
    "}\n",
    "\n",
    "housing_data = pd.read_csv(gd_path(files_id['housing_data']), sep=\",\")\n",
    "test_housing_data = pd.read_csv(gd_path(files_id['test_housing_data']), sep=\",\")\n",
    "ids_com = pd.read_csv(gd_path(files_id['ids_com']), sep=\",\")\n",
    "df = housing_data"
   ]
  },
  {
   "cell_type": "markdown",
   "metadata": {},
   "source": [
    "# Pre-Processing Pipe"
   ]
  },
  {
   "cell_type": "markdown",
   "metadata": {},
   "source": [
    "## Ordinary columns"
   ]
  },
  {
   "cell_type": "markdown",
   "metadata": {},
   "source": [
    "This part was done by hands. Many Bothans died to bring us this information."
   ]
  },
  {
   "cell_type": "code",
   "execution_count": 28,
   "metadata": {},
   "outputs": [],
   "source": [
    "from sklearn.model_selection import train_test_split\n",
    "\n",
    "# X and y creation\n",
    "#y = df.pop(\"SalePrice\")\n",
    "\n",
    "# Feature Engineering\n",
    "X = df\n",
    "\n",
    "# data splitting\n",
    "X_train, X_test, y_train, y_test = train_test_split(X, y, test_size=0.2, random_state=123)"
   ]
  },
  {
   "cell_type": "code",
   "execution_count": 17,
   "metadata": {},
   "outputs": [],
   "source": [
    "# Separating numerical features from your training and testing datasets\n",
    "X_num_train = X_train.select_dtypes(include=\"number\").copy()\n",
    "X_num_test = X_test.select_dtypes(include=\"number\").copy()\n",
    "\n",
    "\n",
    "# Define ordinal and one-hot encoding columns\n",
    "ordinal_cols = X_train.columns.get_indexer(['LandContour', 'LandSlope',\n",
    "                     'ExterQual', 'ExterCond', 'BsmtQual', 'BsmtCond',\n",
    "                     'BsmtExposure', 'BsmtFinType1', 'BsmtFinType2',\n",
    "                     'HeatingQC', 'KitchenQual', 'Functional',\n",
    "                     'FireplaceQu', 'GarageFinish', 'GarageQual', 'GarageCond',\n",
    "                     'PoolQC'])\n",
    "\n",
    "onehot_cols = X_train.columns.get_indexer(['MSZoning', 'Condition1', 'Heating', 'Street', 'CentralAir', \n",
    "                                         'Foundation', 'Alley', 'LotShape', 'Utilities', 'LotConfig', \n",
    "                                         'Neighborhood', 'Condition2', 'BldgType', 'HouseStyle', \n",
    "                                         'RoofStyle', 'RoofMatl', 'Exterior1st', 'Exterior2nd', 'MasVnrType', \n",
    "                                         'Electrical', 'GarageType', 'PavedDrive', 'Fence', 'MiscFeature',\n",
    "                                         'SaleType', 'SaleCondition'])\n",
    "\n",
    "# Manually establish the order of categories for ordinal features, including \"N_A\"\n",
    "ordinal_categories = [['Lvl', 'Bnk', 'HLS', 'Low', 'N_A'],\n",
    "                      ['Gtl', 'Mod', 'Sev', 'N_A'],\n",
    "                      ['Ex', 'Gd', 'TA', 'Fa', 'Po', 'N_A'],\n",
    "                      ['Ex', 'Gd', 'TA', 'Fa', 'Po', 'N_A'],\n",
    "                      ['Ex', 'Gd', 'TA', 'Fa', 'Po', 'N_A'],\n",
    "                      ['Ex', 'Gd', 'TA', 'Fa', 'Po', 'N_A'],\n",
    "                      ['Gd', 'Av', 'Mn', 'No', 'N_A'],\n",
    "                      ['GLQ', 'ALQ', 'BLQ', 'Rec', 'LwQ', 'Unf', 'N_A'],\n",
    "                      ['GLQ', 'ALQ', 'BLQ', 'Rec', 'LwQ', 'Unf', 'N_A'],\n",
    "                      ['Ex', 'Gd', 'TA', 'Fa', 'Po', 'N_A'],\n",
    "                      ['Ex', 'Gd', 'TA', 'Fa', 'Po', 'N_A'],\n",
    "                      ['Typ', 'Min1', 'Min2', 'Mod', 'Maj1', 'Maj2', 'Sev', 'Sal', 'N_A'],\n",
    "                      ['Ex', 'Gd', 'TA', 'Fa', 'Po', 'N_A'],\n",
    "                      ['Fin', 'RFn', 'Unf', 'N_A'],\n",
    "                      ['Ex', 'Gd', 'TA', 'Fa', 'Po', 'N_A'],\n",
    "                      ['Ex', 'Gd', 'TA', 'Fa', 'Po', 'N_A'],\n",
    "                      ['Ex', 'Gd', 'TA', 'Fa', 'N_A']]\n",
    "\n",
    "# Create a categorical encoder\n",
    "categorical_encoder = ColumnTransformer(\n",
    "    transformers=[\n",
    "        (\"cat_ordinal\", OrdinalEncoder(categories=ordinal_categories), ordinal_cols),\n",
    "        (\"cat_onehot\", OneHotEncoder(handle_unknown=\"ignore\"), onehot_cols)\n",
    "    ]\n",
    ")\n",
    "\n",
    "# Create pipelines for numerical and categorical features\n",
    "numeric_pipe = make_pipeline(\n",
    "    SimpleImputer(strategy='mean'),\n",
    "    SelectKBest(score_func=f_regression, k=20),\n",
    "    MinMaxScaler(),\n",
    "    VarianceThreshold(threshold=0.02)\n",
    ")\n",
    "\n",
    "categoric_pipe = make_pipeline(\n",
    "    SimpleImputer(strategy=\"constant\", fill_value=\"N_A\"),\n",
    "    categorical_encoder\n",
    ")\n",
    "\n",
    "# Create a preprocessor that applies the appropriate pipeline to each feature type\n",
    "preprocessor = ColumnTransformer(\n",
    "    transformers=[\n",
    "        (\"num_pipe\", numeric_pipe, X_num_train.columns),\n",
    "        (\"cat_pipe\", categoric_pipe, X_train.columns)\n",
    "    ]\n",
    ")\n",
    "\n"
   ]
  },
  {
   "cell_type": "markdown",
   "metadata": {},
   "source": [
    "# Models"
   ]
  },
  {
   "cell_type": "markdown",
   "metadata": {},
   "source": [
    "## Regressions"
   ]
  },
  {
   "cell_type": "markdown",
   "metadata": {},
   "source": [
    "### SGDRegressor"
   ]
  },
  {
   "cell_type": "code",
   "execution_count": null,
   "metadata": {},
   "outputs": [],
   "source": [
    "sgd_pipeline = make_pipeline(preprocessor,\n",
    "                              SGDRegressor())\n",
    "\n",
    "param_grid = {\n",
    "    'columntransformer__num_pipe__simpleimputer__strategy': ['median'],\n",
    "    'columntransformer__num_pipe__selectkbest__k': 12,\n",
    "    'columntransformer__num_pipe__variancethreshold__threshold': [0.005]\n",
    "}\n",
    "\n",
    "search = GridSearchCV(sgd_pipeline,\n",
    "                      param_grid,\n",
    "                      cv=5,\n",
    "                      verbose=1)\n",
    "\n",
    "search.fit(X_train, y_train)\n",
    "\n",
    "scores = {\"SGD\" : search.best_score_}\n",
    "print(\"Best parameters: \", search.best_params_)\n",
    "\n",
    "scores"
   ]
  },
  {
   "cell_type": "code",
   "execution_count": 30,
   "metadata": {},
   "outputs": [
    {
     "name": "stdout",
     "output_type": "stream",
     "text": [
      "MAPE: 0.12\n",
      "R-squared: 0.849\n"
     ]
    }
   ],
   "source": [
    "from sklearn.linear_model import LinearRegression, SGDRegressor\n",
    "\n",
    "sgd_pipeline = make_pipeline(preprocessor,\n",
    "                            SGDRegressor())\n",
    "\n",
    "sgd_pipeline.fit(X_train, y_train)\n",
    "\n",
    "sgd_predictions = sgd_pipeline.predict(X_test)\n",
    "\n",
    "SGD_mape = mean_absolute_percentage_error(y_true = y_test,\n",
    "                    y_pred = sgd_predictions)\n",
    "\n",
    "print(\"MAPE:\", round(SGD_mape,3))\n",
    "\n",
    "SGR_r2 = r2_score(y_true = y_test,\n",
    "                    y_pred = sgd_predictions)\n",
    "\n",
    "print(\"R-squared:\", round(SGR_r2, 3))"
   ]
  },
  {
   "cell_type": "code",
   "execution_count": 43,
   "metadata": {},
   "outputs": [
    {
     "name": "stdout",
     "output_type": "stream",
     "text": [
      "Fitting 5 folds for each of 1 candidates, totalling 5 fits\n",
      "MAPE: 0.123\n",
      "R-squared: 0.843\n"
     ]
    }
   ],
   "source": [
    "# Create the preprocessing pipeline\n",
    "sgd_pipeline = make_pipeline(preprocessor, SGDRegressor())\n",
    "\n",
    "# Define the hyperparameter grid\n",
    "param_grid = {\n",
    "    'columntransformer__num_pipe__simpleimputer__strategy': ['median'],\n",
    "    'columntransformer__num_pipe__selectkbest__k': [12],\n",
    "    'columntransformer__num_pipe__variancethreshold__threshold': [0.005]\n",
    "}\n",
    "\n",
    "# Perform grid search for hyperparameter tuning\n",
    "search = GridSearchCV(sgd_pipeline, param_grid, cv=5, verbose=1)\n",
    "search.fit(X_train, y_train)\n",
    "\n",
    "# Get the best score and best parameters\n",
    "scores = {\"SGD\": search.best_score_}\n",
    "#print(\"Best parameters: \", search.best_params_)\n",
    "\n",
    "# Fit the SGDRegressor pipeline on the training data\n",
    "sgd_pipeline.fit(X_train, y_train)\n",
    "\n",
    "# Make predictions on the test data\n",
    "sgd_predictions = sgd_pipeline.predict(X_test)\n",
    "\n",
    "# Calculate and print MAPE\n",
    "SGD_mape = mean_absolute_percentage_error(y_true=y_test, y_pred=sgd_predictions)\n",
    "print(\"MAPE:\", round(SGD_mape, 3))\n",
    "\n",
    "# Calculate and print R-squared\n",
    "SGR_r2 = r2_score(y_true=y_test, y_pred=sgd_predictions)\n",
    "print(\"R-squared:\", round(SGR_r2, 3))"
   ]
  },
  {
   "cell_type": "markdown",
   "metadata": {},
   "source": [
    "#### With KBest"
   ]
  },
  {
   "cell_type": "markdown",
   "metadata": {},
   "source": [
    "### LinearRegression"
   ]
  },
  {
   "cell_type": "code",
   "execution_count": null,
   "metadata": {},
   "outputs": [],
   "source": [
    "full_pipeline = make_pipeline(preprocessor,\n",
    "                              LinearRegression())\n",
    "\n",
    "param_grid = {\n",
    "    'columntransformer__num_pipe__simpleimputer__strategy': ['mean'],\n",
    "    'columntransformer__num_pipe__selectkbest__k': 4,\n",
    "    'columntransformer__num_pipe__variancethreshold__threshold': [0.01],\n",
    "}\n",
    "\n",
    "search = GridSearchCV(full_pipeline,\n",
    "                      param_grid,\n",
    "                      cv=5,\n",
    "                      verbose=1)\n",
    "\n",
    "search.fit(X_train, y_train)\n",
    "\n",
    "scores = {\"LR\" : search.best_score_}\n",
    "print(\"Best parameters: \", search.best_params_)\n",
    "\n",
    "scores"
   ]
  },
  {
   "cell_type": "code",
   "execution_count": 40,
   "metadata": {},
   "outputs": [
    {
     "name": "stdout",
     "output_type": "stream",
     "text": [
      "MAPE: 0.122\n",
      "R-squared: 0.863\n"
     ]
    }
   ],
   "source": [
    "# Scale the data! \n",
    "\n",
    "lr_pipeline = make_pipeline(preprocessor,\n",
    "                            LinearRegression())\n",
    "\n",
    "lr_pipeline.fit(X_train, y_train)\n",
    "\n",
    "lr_predictions = lr_pipeline.predict(X_test)\n",
    "\n",
    "lr_mape = mean_absolute_percentage_error(y_true = y_test,\n",
    "                    y_pred = lr_predictions)\n",
    "\n",
    "print(\"MAPE:\", round(lr_mape,3))\n",
    "\n",
    "lr_r2 = r2_score(y_true = y_test,\n",
    "                    y_pred = lr_predictions)\n",
    "\n",
    "print(\"R-squared:\", round(lr_r2,3))"
   ]
  },
  {
   "cell_type": "code",
   "execution_count": 47,
   "metadata": {},
   "outputs": [
    {
     "name": "stdout",
     "output_type": "stream",
     "text": [
      "Fitting 5 folds for each of 1 candidates, totalling 5 fits\n",
      "MAPE: 0.123\n",
      "R-squared: 0.843\n"
     ]
    }
   ],
   "source": [
    "# Create the preprocessing pipeline\n",
    "lr_pipeline = make_pipeline(preprocessor, LinearRegression())\n",
    "\n",
    "# Define the hyperparameter grid\n",
    "param_grid = {\n",
    "    'columntransformer__num_pipe__simpleimputer__strategy': ['mean'],\n",
    "    'columntransformer__num_pipe__selectkbest__k': [4],\n",
    "    'columntransformer__num_pipe__variancethreshold__threshold': [0.01],\n",
    "}\n",
    "\n",
    "# Perform grid search for hyperparameter tuning\n",
    "search = GridSearchCV(sgd_pipeline, param_grid, cv=5, verbose=1)\n",
    "search.fit(X_train, y_train)\n",
    "\n",
    "# Get the best score and best parameters\n",
    "scores = {\"SGD\": search.best_score_}\n",
    "#print(\"Best parameters: \", search.best_params_)\n",
    "\n",
    "# Fit the SGDRegressor pipeline on the training data\n",
    "lr_pipeline.fit(X_train, y_train)\n",
    "\n",
    "# Make predictions on the test data\n",
    "lr_predictions = lr_pipeline.predict(X_test)\n",
    "\n",
    "# Calculate and print MAPE\n",
    "LR_mape = mean_absolute_percentage_error(y_true=y_test, y_pred=sgd_predictions)\n",
    "print(\"MAPE:\", round(SGD_mape, 3))\n",
    "\n",
    "# Calculate and print R-squared\n",
    "LR_r2 = r2_score(y_true=y_test, y_pred=sgd_predictions)\n",
    "print(\"R-squared:\", round(SGR_r2, 3))"
   ]
  },
  {
   "cell_type": "markdown",
   "metadata": {},
   "source": [
    "# Iteration 0"
   ]
  },
  {
   "cell_type": "code",
   "execution_count": 520,
   "metadata": {},
   "outputs": [
    {
     "data": {
      "text/html": [
       "<div>\n",
       "<style scoped>\n",
       "    .dataframe tbody tr th:only-of-type {\n",
       "        vertical-align: middle;\n",
       "    }\n",
       "\n",
       "    .dataframe tbody tr th {\n",
       "        vertical-align: top;\n",
       "    }\n",
       "\n",
       "    .dataframe thead th {\n",
       "        text-align: right;\n",
       "    }\n",
       "</style>\n",
       "<table border=\"1\" class=\"dataframe\">\n",
       "  <thead>\n",
       "    <tr style=\"text-align: right;\">\n",
       "      <th></th>\n",
       "      <th>decision_tree</th>\n",
       "      <th>knn</th>\n",
       "      <th>RF</th>\n",
       "      <th>SGDR</th>\n",
       "      <th>LR</th>\n",
       "    </tr>\n",
       "  </thead>\n",
       "  <tbody>\n",
       "    <tr>\n",
       "      <th>baseline</th>\n",
       "      <td>0.322</td>\n",
       "      <td>0.259</td>\n",
       "      <td>0.673</td>\n",
       "      <td>0.8</td>\n",
       "      <td>0.838</td>\n",
       "    </tr>\n",
       "  </tbody>\n",
       "</table>\n",
       "</div>"
      ],
      "text/plain": [
       "          decision_tree    knn     RF  SGDR     LR\n",
       "baseline          0.322  0.259  0.673   0.8  0.838"
      ]
     },
     "execution_count": 520,
     "metadata": {},
     "output_type": "execute_result"
    }
   ],
   "source": [
    "y_test_pred_tree = search.predict(X_test)\n",
    "y_test_pred_knn = search2.predict(X_test)\n",
    "y_test_pred_rf = search3.predict(X_test)\n",
    "y_test_pred_SGDR = sgd_pipeline.predict(X_test)\n",
    "y_test_pred_lr = lr_pipeline.predict(X_test)\n",
    "\n",
    "\n",
    "baseline_tree_r2 = r2_score(y_test, y_test_pred_tree)\n",
    "baseline_knn_r2 = r2_score(y_test, y_test_pred_knn)\n",
    "baseline_rf = r2_score(y_test, y_test_pred_rf)\n",
    "baseline_SGDR = r2_score(y_test, y_test_pred_SGDR)\n",
    "baseline_lr = r2_score(y_test, y_test_pred_lr)\n",
    "\n",
    "\n",
    "performances = pd.DataFrame({'decision_tree': round(baseline_tree_r2,3),\n",
    "                             'knn': round(baseline_knn_r2,3), \n",
    "                             'RF': round(baseline_rf,3),\n",
    "                             'SGDR': round(baseline_SGDR, 2),\n",
    "                            'LR': round(baseline_lr,3)},\n",
    "                            index=['baseline'])\n",
    "\n",
    "performances"
   ]
  },
  {
   "cell_type": "markdown",
   "metadata": {},
   "source": [
    "With out Threshold and Skaler\n",
    "\n",
    "| Model       | Decision Tree | KNN   | Random Forest | SGDR  | Logistic Regression |\n",
    "|-------------|---------------|-------|---------------|-------|----------------------|\n",
    "| Baseline    | 0.372         | -0.229 | 0.697         | -3.505539e+22  | 0.884               |"
   ]
  },
  {
   "cell_type": "markdown",
   "metadata": {},
   "source": [
    "With Threshold and Skaler\n",
    "\n",
    "| Model       | Decision Tree | KNN   | Random Forest | SGDR  | Logistic Regression |\n",
    "|-------------|---------------|-------|---------------|-------|----------------------|\n",
    "| Baseline    | 0.454         | 0.108 | 0.595         | 0.84  | 0.866                |\n"
   ]
  },
  {
   "cell_type": "markdown",
   "metadata": {},
   "source": [
    "With Threshold and Skaler and GridSearh\n",
    "\n",
    "| Model       | Decision Tree | KNN   | Random Forest | SGDR  | Logistic Regression |\n",
    "|-------------|---------------|-------|---------------|-------|----------------------|\n",
    "| Baseline    | 0.31           | 0.64 | 0.7           | 0.87  |   -7.169538e+19          |"
   ]
  },
  {
   "cell_type": "code",
   "execution_count": 521,
   "metadata": {},
   "outputs": [
    {
     "name": "stdout",
     "output_type": "stream",
     "text": [
      "Readoy\n"
     ]
    }
   ],
   "source": [
    "print('Readoy')"
   ]
  },
  {
   "cell_type": "markdown",
   "metadata": {},
   "source": [
    "# Downloand"
   ]
  },
  {
   "cell_type": "code",
   "execution_count": 48,
   "metadata": {},
   "outputs": [],
   "source": [
    "X_sumbmition = test_housing_data\n",
    "ids_com['SalePrice'] = lr_pipeline.predict(X_sumbmition) # only cange the piplene! \n",
    "ids_com.to_csv(r'submission_lr_grid.csv', index=False) #only cahnge ist"
   ]
  },
  {
   "cell_type": "markdown",
   "metadata": {},
   "source": []
  }
 ],
 "metadata": {
  "kernelspec": {
   "display_name": "Python 3 (ipykernel)",
   "language": "python",
   "name": "python3"
  },
  "language_info": {
   "codemirror_mode": {
    "name": "ipython",
    "version": 3
   },
   "file_extension": ".py",
   "mimetype": "text/x-python",
   "name": "python",
   "nbconvert_exporter": "python",
   "pygments_lexer": "ipython3",
   "version": "3.11.3"
  },
  "orig_nbformat": 4
 },
 "nbformat": 4,
 "nbformat_minor": 2
}
