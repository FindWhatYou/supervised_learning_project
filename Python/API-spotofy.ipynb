{
 "cells": [
  {
   "cell_type": "code",
   "execution_count": 148,
   "id": "2555c684",
   "metadata": {},
   "outputs": [
    {
     "data": {
      "text/plain": [
       "True"
      ]
     },
     "execution_count": 148,
     "metadata": {},
     "output_type": "execute_result"
    }
   ],
   "source": [
    "from dotenv import load_dotenv\n",
    "import os\n",
    "import base64\n",
    "from requests import post, get\n",
    "import json\n",
    "\n",
    "load_dotenv()"
   ]
  },
  {
   "cell_type": "code",
   "execution_count": 21,
   "id": "93d28700",
   "metadata": {},
   "outputs": [],
   "source": [
    "client_id = os.getenv('MY_CLIENT_ID')\n",
    "client_sc_id = os.getenv('MY_SCR_CLIEUNT_ID') "
   ]
  },
  {
   "cell_type": "code",
   "execution_count": null,
   "id": "cd059ab8",
   "metadata": {},
   "outputs": [],
   "source": [
    "def get_token():\n",
    "    auth_string = client_id + ':' + client_sc_id\n",
    "    auth_bytes = auth_string.encode(\"utf-8\")\n",
    "    auth_base64 = str(base64.b64encode(auth_bytes), \"utf-8\")\n",
    "    \n",
    "    url =\"https://accounts.spotify.com/api/token\"\n",
    "    headers = {\n",
    "        \"Authorization\": \"Basic \" + auth_base64,\n",
    "        \"Content-Type\": \"application/x-www-form-urlencoded\"\n",
    "    }\n",
    "    data = {\"grant_type\": \"client_credentials\"}\n",
    "    \n",
    "    result = requests.post(url, headers=headers, data=data)\n",
    "    \n",
    "    if result.status_code != 200:\n",
    "        raise Exception(f\"API call failed with status code {result.status_code}: {result.text}\")\n",
    "    \n",
    "    json_result = result.json()\n",
    "    token = json_result.get(\"access_token\")\n",
    "    \n",
    "    if not token:\n",
    "        raise Exception(\"Failed to retrieve access token from Spotify API.\")\n",
    "    \n",
    "    return token\n"
   ]
  },
  {
   "cell_type": "code",
   "execution_count": 69,
   "id": "66a05721",
   "metadata": {},
   "outputs": [],
   "source": [
    "token = get_token()"
   ]
  },
  {
   "cell_type": "code",
   "execution_count": 70,
   "id": "8d2ba3c2",
   "metadata": {},
   "outputs": [
    {
     "data": {
      "text/plain": [
       "'BQAvQQqowLaeiQ2L7kPgn4woLwp6q-XbeK5deQAGOwYUVK7CBqZXxIZNfr6Woale4K043fK4VDm8RqAlYep-VVCBozLzI7YGN6FXRk7DVEYMcfHye0g'"
      ]
     },
     "execution_count": 70,
     "metadata": {},
     "output_type": "execute_result"
    }
   ],
   "source": [
    "token"
   ]
  },
  {
   "cell_type": "code",
   "execution_count": 71,
   "id": "8de868ef",
   "metadata": {},
   "outputs": [],
   "source": [
    "def get_auth_header(token):\n",
    "    return{\"Authorization\": \"Bearer \" + token}"
   ]
  },
  {
   "cell_type": "code",
   "execution_count": null,
   "id": "a846791f",
   "metadata": {},
   "outputs": [],
   "source": [
    "2XNwnFrdMDpismp0VUZ7cU"
   ]
  },
  {
   "cell_type": "code",
   "execution_count": 72,
   "id": "ed19e677",
   "metadata": {},
   "outputs": [],
   "source": [
    "def search_for_artist(token, artist_name):\n",
    "    url = \"https://api.spotify.com/v1/search\"\n",
    "    headers = get_auth_header(token)\n",
    "    query = f\"q={artist_name}&type=artist,type=artist&limit=1\"\n",
    "    \n",
    "    quary_url = url + query \n",
    "    result = get(quary_url, headers=headers)\n",
    "    json_result = json.loads(result.content)\n",
    "    print(json_result)"
   ]
  },
  {
   "cell_type": "code",
   "execution_count": 74,
   "id": "e785971e",
   "metadata": {},
   "outputs": [],
   "source": [
    "    \n",
    "def get_auth_header(token):\n",
    "    \"\"\"Helper function to return the authorization header\"\"\"\n",
    "    return {\n",
    "        \"Authorization\": f\"Bearer {token}\",\n",
    "        \"Content-Type\": \"application/json\"\n",
    "    }"
   ]
  },
  {
   "cell_type": "code",
   "execution_count": 83,
   "id": "e58d0dea",
   "metadata": {},
   "outputs": [],
   "source": [
    "def search_for_artist(token, artist_name):\n",
    "    url = \"https://api.spotify.com/v1/search\"\n",
    "    headers = get_auth_header(token)\n",
    "    query = f\"q={artist_name}&type=artist&limit=1\"\n",
    "    \n",
    "    query_url = f\"{url}?{query}\"\n",
    "    result = requests.get(query_url, headers=headers)\n",
    "    \n",
    "    # Handle potential errors\n",
    "    result.raise_for_status()  # This will raise an error if the HTTP request returned an error status code\n",
    "    \n",
    "    json_result = result.json()\n",
    "    return json_result\n",
    "\n",
    "# When you call the function, make sure to provide the necessary token and artist name.\n",
    "# For example:\n",
    "# token = get_token(client_id, client_secret)  # Assuming you're using the get_token function provided earlier\n",
    "# search_for_artist(token, \"Adele\")"
   ]
  },
  {
   "cell_type": "code",
   "execution_count": 107,
   "id": "ff346903",
   "metadata": {},
   "outputs": [
    {
     "ename": "SyntaxError",
     "evalue": "invalid syntax (1044663126.py, line 1)",
     "output_type": "error",
     "traceback": [
      "\u001b[0;36m  Cell \u001b[0;32mIn[107], line 1\u001b[0;36m\u001b[0m\n\u001b[0;31m    https://api.spotify.com/v1/artists/{id}\u001b[0m\n\u001b[0m          ^\u001b[0m\n\u001b[0;31mSyntaxError\u001b[0m\u001b[0;31m:\u001b[0m invalid syntax\n"
     ]
    }
   ],
   "source": [
    "https://api.spotify.com/v1/artists/{id}"
   ]
  },
  {
   "cell_type": "code",
   "execution_count": 103,
   "id": "6b782969",
   "metadata": {},
   "outputs": [],
   "source": [
    "artist = search_for_artist(token, \"ACDC\")"
   ]
  },
  {
   "cell_type": "code",
   "execution_count": 106,
   "id": "0d528f87",
   "metadata": {},
   "outputs": [
    {
     "data": {
      "text/plain": [
       "['australian rock', 'hard rock', 'rock']"
      ]
     },
     "execution_count": 106,
     "metadata": {},
     "output_type": "execute_result"
    }
   ],
   "source": [
    "artist['artists']['items'][0]['genres']"
   ]
  },
  {
   "cell_type": "code",
   "execution_count": 108,
   "id": "c0600ac1",
   "metadata": {},
   "outputs": [],
   "source": [
    "## Using SPOTIPY"
   ]
  },
  {
   "cell_type": "code",
   "execution_count": 111,
   "id": "33f260fd",
   "metadata": {},
   "outputs": [
    {
     "name": "stdout",
     "output_type": "stream",
     "text": [
      "Collecting spotipy\n",
      "  Downloading spotipy-2.23.0-py3-none-any.whl (29 kB)\n",
      "Collecting redis>=3.5.3 (from spotipy)\n",
      "  Downloading redis-5.0.0-py3-none-any.whl (250 kB)\n",
      "\u001b[2K     \u001b[90m━━━━━━━━━━━━━━━━━━━━━━━━━━━━━━━━━━━━━━━\u001b[0m \u001b[32m250.1/250.1 kB\u001b[0m \u001b[31m2.7 MB/s\u001b[0m eta \u001b[36m0:00:00\u001b[0ma \u001b[36m0:00:01\u001b[0m\n",
      "\u001b[?25hRequirement already satisfied: requests>=2.25.0 in /Users/Smirnov/anaconda3/lib/python3.11/site-packages (from spotipy) (2.29.0)\n",
      "Requirement already satisfied: six>=1.15.0 in /Users/Smirnov/anaconda3/lib/python3.11/site-packages (from spotipy) (1.16.0)\n",
      "Requirement already satisfied: urllib3>=1.26.0 in /Users/Smirnov/anaconda3/lib/python3.11/site-packages (from spotipy) (1.26.16)\n",
      "Requirement already satisfied: charset-normalizer<4,>=2 in /Users/Smirnov/anaconda3/lib/python3.11/site-packages (from requests>=2.25.0->spotipy) (2.0.4)\n",
      "Requirement already satisfied: idna<4,>=2.5 in /Users/Smirnov/anaconda3/lib/python3.11/site-packages (from requests>=2.25.0->spotipy) (3.4)\n",
      "Requirement already satisfied: certifi>=2017.4.17 in /Users/Smirnov/anaconda3/lib/python3.11/site-packages (from requests>=2.25.0->spotipy) (2020.6.20)\n",
      "Installing collected packages: redis, spotipy\n",
      "Successfully installed redis-5.0.0 spotipy-2.23.0\n"
     ]
    }
   ],
   "source": [
    "!pip install spotipy --upgrade"
   ]
  },
  {
   "cell_type": "code",
   "execution_count": 147,
   "id": "21159f3c",
   "metadata": {},
   "outputs": [
    {
     "data": {
      "text/plain": [
       "'6b26d21d31ff4e78bfa023a17271f979'"
      ]
     },
     "execution_count": 147,
     "metadata": {},
     "output_type": "execute_result"
    }
   ],
   "source": [
    "client_sc_id"
   ]
  },
  {
   "cell_type": "code",
   "execution_count": 164,
   "id": "7ac6d409",
   "metadata": {},
   "outputs": [
    {
     "name": "stdout",
     "output_type": "stream",
     "text": [
      "Artist: Pyotr Ilyich Tchaikovsky\n",
      "Genres: classical, classical drill, late romantic era, russian romanticism\n",
      "Artist_ID: 3MKCzCnpzw3TjUYs2v7vDA\n"
     ]
    }
   ],
   "source": [
    "import spotipy\n",
    "from spotipy.oauth2 import SpotifyClientCredentials\n",
    "\n",
    "# Set up credentials\n",
    "client_id = client_id\n",
    "client_secret = client_sc_id\n",
    "client_credentials_manager = SpotifyClientCredentials(client_id=client_id, client_secret=client_secret)\n",
    "\n",
    "# Create Spotify object with credentials\n",
    "sp = spotipy.Spotify(client_credentials_manager=client_credentials_manager)\n",
    "\n",
    "# Get track details\n",
    "track_id = \"1aEhYlZtypmipA06SDJ4U3\"\n",
    "track = sp.track(track_id)\n",
    "\n",
    "# Get artist details from the track's primary artist\n",
    "artist_id = track['artists'][0]['id']\n",
    "artist = sp.artist(artist_id)\n",
    "\n",
    "# Print artist's genres\n",
    "#print(artist['genres'])\n",
    "print(f\"Artist: {artist['name']}\")\n",
    "print(f\"Genres: {', '.join(artist['genres'])}\")\n",
    "print(f\"Artist_ID: {artist['id']}\")"
   ]
  },
  {
   "cell_type": "code",
   "execution_count": 165,
   "id": "a9939b3f",
   "metadata": {},
   "outputs": [],
   "source": [
    "def get_track_genra(track_id):\n",
    "    # Get track details\n",
    "    track = sp.track(track_id)\n",
    "\n",
    "    # Get artist details from the track's primary artist\n",
    "    artist_id = track['artists'][0]['id']\n",
    "    artist = sp.artist(artist_id)\n",
    "    return artist"
   ]
  },
  {
   "cell_type": "code",
   "execution_count": 158,
   "id": "3802b6c4",
   "metadata": {},
   "outputs": [],
   "source": [
    "names_and_genrs = {'id':[],'genres':[]}"
   ]
  },
  {
   "cell_type": "code",
   "execution_count": null,
   "id": "343b7aef",
   "metadata": {},
   "outputs": [],
   "source": [
    "get_track_genra('1aEhYlZtypmipA06SDJ4U3')"
   ]
  },
  {
   "cell_type": "code",
   "execution_count": null,
   "id": "fd1bf31d",
   "metadata": {},
   "outputs": [],
   "source": []
  }
 ],
 "metadata": {
  "kernelspec": {
   "display_name": "Python 3 (ipykernel)",
   "language": "python",
   "name": "python3"
  },
  "language_info": {
   "codemirror_mode": {
    "name": "ipython",
    "version": 3
   },
   "file_extension": ".py",
   "mimetype": "text/x-python",
   "name": "python",
   "nbconvert_exporter": "python",
   "pygments_lexer": "ipython3",
   "version": "3.11.3"
  }
 },
 "nbformat": 4,
 "nbformat_minor": 5
}
