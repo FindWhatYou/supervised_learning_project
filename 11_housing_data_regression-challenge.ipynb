{
 "cells": [
  {
   "cell_type": "code",
   "execution_count": 48,
   "metadata": {},
   "outputs": [],
   "source": [
    "import pandas as pd\n",
    "from sklearn.model_selection import train_test_split\n",
    "from sklearn.impute import SimpleImputer\n",
    "from sklearn.tree import DecisionTreeClassifier\n",
    "from sklearn.pipeline import make_pipeline\n",
    "from sklearn.preprocessing import OneHotEncoder\n",
    "from sklearn.preprocessing import OrdinalEncoder\n",
    "from sklearn.compose import ColumnTransformer\n",
    "from sklearn.metrics import confusion_matrix, accuracy_score\n",
    "from sklearn.metrics import accuracy_score\n",
    "from sklearn.metrics import r2_score\n",
    "from sklearn.metrics import mean_absolute_percentage_error\n",
    "from sklearn.model_selection import GridSearchCV\n",
    "from sklearn.neighbors import KNeighborsClassifier\n",
    "from sklearn.ensemble import RandomForestClassifier\n",
    "from sklearn.linear_model import LinearRegression, SGDRegressor"
   ]
  },
  {
   "cell_type": "code",
   "execution_count": 49,
   "metadata": {},
   "outputs": [],
   "source": [
    "# Define a function to generate a shareable link from a Google Drive file ID\n",
    "def gd_path(file_id):\n",
    "    return f\"https://drive.google.com/uc?export=download&id={file_id}\"\n",
    "\n",
    "# Define a dictionary of file IDs for different datasets\n",
    "files_id = {\n",
    "    'housing_data': \"1kX_jcLeBpBGvTo8FXDeU2MK-aw1a0voU\",  # File ID for housing data\n",
    "    'test_housing_data': \"1CMsAWhWKWBjI6DDEHtcYmRVZRazfE9bo\",  # File ID for test housing data\n",
    "    'ids_com': \"10gwiL49calkj-xbx-3rQEK4H2zoJcU11\"  # File ID for project commit IDs\n",
    "}\n",
    "\n",
    "# Read the housing data from Google Drive using the provided file ID\n",
    "housing_data = pd.read_csv(gd_path(files_id['housing_data']), sep=\",\")\n",
    "\n",
    "# Read the test housing data from Google Drive using the provided file ID\n",
    "test_housing_data = pd.read_csv(gd_path(files_id['test_housing_data']), sep=\",\")\n",
    "\n",
    "# Read the project commit IDs from Google Drive using the provided file ID\n",
    "ids_com = pd.read_csv(gd_path(files_id['ids_com']), sep=\",\")\n",
    "\n",
    "# Assign the housing data DataFrame to a variable 'df' for further processing\n",
    "df = housing_data"
   ]
  },
  {
   "cell_type": "markdown",
   "metadata": {},
   "source": [
    "# Pre-Processing Pipe"
   ]
  },
  {
   "cell_type": "markdown",
   "metadata": {},
   "source": [
    "## Split"
   ]
  },
  {
   "cell_type": "code",
   "execution_count": 50,
   "metadata": {},
   "outputs": [],
   "source": [
    "# Remove the \"SalePrice\" column from the DataFrame 'df' and assign it to 'y' (target variable)\n",
    "y = df.pop(\"SalePrice\")\n",
    "\n",
    "# Assign the remaining columns in 'df' to 'X' as the features\n",
    "X = df\n",
    "\n",
    "# Split the data into training and testing sets\n",
    "# X_train and y_train will be used for training the model, and X_test and y_test for evaluation\n",
    "# test_size=0.2 means 20% of the data will be used for testing, and random_state=123 is for reproducibility\n",
    "X_train, X_test, y_train, y_test = train_test_split(X, y, test_size=0.2, random_state=123)"
   ]
  },
  {
   "cell_type": "markdown",
   "metadata": {},
   "source": [
    "## Handling data types"
   ]
  },
  {
   "cell_type": "code",
   "execution_count": 51,
   "metadata": {},
   "outputs": [],
   "source": [
    "# Separate categorical and numerical features from X\n",
    "X_cat = X.select_dtypes(exclude=\"number\").copy()\n",
    "X_num = X.select_dtypes(include=\"number\").copy()\n",
    "\n",
    "# Define a pipeline for numerical features\n",
    "numeric_pipe = make_pipeline(\n",
    "    SimpleImputer(strategy=\"mean\")\n",
    ")\n",
    "\n",
    "# Define columns that are treated as ordinal\n",
    "ordinal_cols = X_cat.columns.get_indexer(['LandContour', 'LandSlope',\n",
    "                     'ExterQual', 'ExterCond', 'BsmtQual', 'BsmtCond',\n",
    "                     'BsmtExposure', 'BsmtFinType1', 'BsmtFinType2',\n",
    "                     'HeatingQC', 'KitchenQual', 'Functional',\n",
    "                     'FireplaceQu', 'GarageFinish', 'GarageQual', 'GarageCond',\n",
    "                     'PoolQC'])\n",
    "\n",
    "# Define columns that are one-hot encoded\n",
    "onehot_cols = X_cat.columns.get_indexer(['MSZoning', 'Condition1', 'Heating', 'Street', 'CentralAir', \n",
    "                                         'Foundation', 'Alley', 'LotShape', 'Utilities', 'LotConfig', \n",
    "                                         'Neighborhood', 'Condition2', 'BldgType', 'HouseStyle', \n",
    "                                         'RoofStyle', 'RoofMatl', 'Exterior1st', 'Exterior2nd', 'MasVnrType', \n",
    "                                         'Electrical', 'GarageType', 'PavedDrive', 'Fence', 'MiscFeature',\n",
    "                                         'SaleType', 'SaleCondition'])\n",
    "\n",
    "\n",
    "\n",
    "# Define the categories for ordinal features\n",
    "# These categories are manually established, including \"N_A\"\n",
    "LandContour = ['Lvl', 'Bnk', 'HLS', 'Low']\n",
    "LandSlope = ['Gtl', 'Mod', 'Sev']\n",
    "ExterQual = ['Ex', 'Gd', 'TA', 'Fa', 'Po']\n",
    "ExterCond = ['Ex', 'Gd', 'TA', 'Fa', 'Po']\n",
    "BsmtQual = ['Ex', 'Gd', 'TA', 'Fa', 'Po', 'N_A']\n",
    "BsmtCond = ['Ex', 'Gd', 'TA', 'Fa', 'Po', 'N_A']\n",
    "BsmtExposure = ['Gd', 'Av', 'Mn', 'No', 'N_A']\n",
    "BsmtFinType1 = ['GLQ', 'ALQ', 'BLQ', 'Rec', 'LwQ', 'Unf', 'N_A']\n",
    "BsmtFinType2 = ['GLQ', 'ALQ', 'BLQ', 'Rec', 'LwQ', 'Unf', 'N_A']\n",
    "HeatingQC = ['Ex', 'Gd', 'TA', 'Fa', 'Po']\n",
    "KitchenQual = ['Ex', 'Gd', 'TA', 'Fa', 'Po']\n",
    "Functional = ['Typ', 'Min1', 'Min2', 'Mod', 'Maj1', 'Maj2', 'Sev', 'Sal']\n",
    "FireplaceQu = ['Ex', 'Gd', 'TA', 'Fa', 'Po', 'N_A']\n",
    "GarageFinish = ['Fin', 'RFn', 'Unf', 'N_A']\n",
    "GarageQual = ['Ex', 'Gd', 'TA', 'Fa', 'Po', 'N_A']\n",
    "GarageCond = ['Ex', 'Gd', 'TA', 'Fa', 'Po', 'N_A']\n",
    "PoolQC = ['Ex', 'Gd', 'TA', 'Fa', 'N_A']\n",
    "\n",
    "\n",
    "# Create a ColumnTransformer for categorical features\n",
    "categorical_encoder = ColumnTransformer(\n",
    "    transformers=[\n",
    "        (\"cat_ordinal\", OrdinalEncoder(categories=[LandContour, LandSlope, ExterQual, ExterCond, BsmtQual, BsmtCond,\n",
    "                                                    BsmtExposure, BsmtFinType1, BsmtFinType2, HeatingQC, KitchenQual,\n",
    "                                                    Functional, FireplaceQu, GarageFinish, GarageQual, GarageCond, PoolQC]), ordinal_cols),\n",
    "\n",
    "        (\"cat_onehot\", OneHotEncoder(handle_unknown=\"ignore\"), onehot_cols)\n",
    "    ]\n",
    ")\n",
    "\n",
    "# Define a pipeline for categorical features\n",
    "categoric_pipe = make_pipeline(\n",
    "    SimpleImputer(strategy=\"constant\", fill_value=\"N_A\"),\n",
    "    categorical_encoder \n",
    ")\n",
    "\n",
    "# Create a preprocessor that handles both numerical and categorical features\n",
    "preprocessor = ColumnTransformer(\n",
    "    transformers=[\n",
    "        (\"num_pipe\", numeric_pipe, X_num.columns),\n",
    "        (\"cat_pipe\", categoric_pipe, X_cat.columns),\n",
    "    ]\n",
    ")   "
   ]
  },
  {
   "cell_type": "markdown",
   "metadata": {},
   "source": [
    "# Modelling Pipe"
   ]
  },
  {
   "cell_type": "markdown",
   "metadata": {},
   "source": [
    "## Decisiontree - Creation"
   ]
  },
  {
   "cell_type": "code",
   "execution_count": null,
   "metadata": {},
   "outputs": [],
   "source": [
    "# Create a full pipeline that includes the preprocessing steps and a DecisionTreeClassifier\n",
    "full_pipeline = make_pipeline(preprocessor, DecisionTreeClassifier())\n",
    "\n",
    "# Define a parameter grid for hyperparameter tuning\n",
    "param_grid = {\n",
    "    \"columntransformer__num_pipe__simpleimputer__strategy\": [\"mean\", \"median\"],\n",
    "    \"decisiontreeclassifier__max_depth\": range(2, 14, 2),\n",
    "    \"decisiontreeclassifier__min_samples_leaf\": range(3, 12, 2)\n",
    "}\n",
    "\n",
    "# Create a GridSearchCV object to search for the best hyperparameters\n",
    "search = GridSearchCV(full_pipeline, param_grid, cv=5, verbose=1)\n",
    "\n",
    "# Fit the GridSearchCV object on the training data\n",
    "search.fit(X_train, y_train)\n",
    "\n",
    "# Get the best cross-validation score from the grid search\n",
    "best_score = search.best_score_\n",
    "\n",
    "# Store the best score in a dictionary\n",
    "scores = {\"dtree\": best_score}\n"
   ]
  },
  {
   "cell_type": "markdown",
   "metadata": {},
   "source": [
    "## Decisiontree - Analysis"
   ]
  },
  {
   "cell_type": "code",
   "execution_count": 53,
   "metadata": {},
   "outputs": [
    {
     "name": "stdout",
     "output_type": "stream",
     "text": [
      "Training Accuracy: 0.149\n",
      "Testing Accuracy: 0.003 \n",
      "\n",
      "R-squared: 0.375\n",
      "MAPE: 0.191\n"
     ]
    }
   ],
   "source": [
    "# Get predictions for the training and testing datasets using the best model from the GridSearchCV\n",
    "y_train_pred = search.predict(X_train)\n",
    "y_test_pred = search.predict(X_test)\n",
    "\n",
    "# Create confusion matrices for training and testing datasets\n",
    "confusion_matrix_train = confusion_matrix(y_train, y_train_pred)\n",
    "confusion_matrix_test = confusion_matrix(y_test, y_test_pred)\n",
    "\n",
    "# Calculate accuracy for training and testing datasets\n",
    "accuracy_train = accuracy_score(y_train, y_train_pred)\n",
    "accuracy_test = accuracy_score(y_test, y_test_pred)\n",
    "\n",
    "# Print the training and testing accuracies\n",
    "print(\"Training Accuracy:\", round(accuracy_train, 3))\n",
    "print(\"Testing Accuracy:\", round(accuracy_test, 3), \"\\n\")\n",
    "\n",
    "# Calculate R-squared (coefficient of determination) for the model's predictions\n",
    "dtree_r2 = r2_score(y_true=y_test, y_pred=y_test_pred)\n",
    "\n",
    "# Print the R-squared score\n",
    "print(\"R-squared:\", round(dtree_r2, 3))\n",
    "\n",
    "# Calculate Mean Absolute Percentage Error (MAPE) for the model's predictions\n",
    "dtree_mape = mean_absolute_percentage_error(y_true=y_test, y_pred=y_test_pred)\n",
    "\n",
    "# Print the MAPE score\n",
    "print(\"MAPE:\", round(dtree_mape, 3))"
   ]
  },
  {
   "cell_type": "markdown",
   "metadata": {},
   "source": [
    "## KNN - Creation\n"
   ]
  },
  {
   "cell_type": "code",
   "execution_count": null,
   "metadata": {},
   "outputs": [],
   "source": [
    "# Create a full pipeline that includes the preprocessing steps and a KNeighborsClassifier\n",
    "full_pipeline = make_pipeline(preprocessor, KNeighborsClassifier())\n",
    "\n",
    "# Define a parameter grid for hyperparameter tuning\n",
    "param_grid = {\n",
    "    \"columntransformer__num_pipe__simpleimputer__strategy\": [\"mean\", \"median\"],\n",
    "    \"kneighborsclassifier__n_neighbors\": range(3, 20, 2)\n",
    "}\n",
    "\n",
    "# Create a GridSearchCV object to search for the best hyperparameters\n",
    "search2 = GridSearchCV(full_pipeline, param_grid, cv=10, verbose=1)\n",
    "\n",
    "# Fit the GridSearchCV object on the training data\n",
    "search2.fit(X_train, y_train)\n",
    "\n",
    "# Get the best cross-validation score from the grid search for KNN\n",
    "best_score_knn = search2.best_score_\n",
    "\n",
    "# Store the best score in a dictionary\n",
    "scores2 = {\"knn\": best_score_knn}"
   ]
  },
  {
   "cell_type": "markdown",
   "metadata": {},
   "source": [
    "## KNN - Anylysis"
   ]
  },
  {
   "cell_type": "code",
   "execution_count": 55,
   "metadata": {},
   "outputs": [
    {
     "name": "stdout",
     "output_type": "stream",
     "text": [
      "Training Accuracy: 0.191\n",
      "Testing Accuracy: 0.007 \n",
      "\n",
      "R-squared: 0.056\n",
      "MAPE: 0.253\n"
     ]
    }
   ],
   "source": [
    "# Get predictions for the training and testing datasets using the best KNN model from the GridSearchCV\n",
    "y_train_pred = search2.predict(X_train)\n",
    "y_test_pred = search2.predict(X_test)\n",
    "\n",
    "# Create confusion matrices for training and testing datasets\n",
    "confusion_matrix_train = confusion_matrix(y_train, y_train_pred)\n",
    "confusion_matrix_test = confusion_matrix(y_test, y_test_pred)\n",
    "\n",
    "# Calculate accuracy for training and testing datasets\n",
    "accuracy_train = accuracy_score(y_train, y_train_pred)\n",
    "accuracy_test = accuracy_score(y_test, y_test_pred)\n",
    "\n",
    "# Print the training and testing accuracies\n",
    "print(\"Training Accuracy:\", round(accuracy_train, 3))\n",
    "print(\"Testing Accuracy:\", round(accuracy_test, 3), \"\\n\")\n",
    "\n",
    "# Calculate R-squared (coefficient of determination) for the KNN model's predictions\n",
    "knn_r2 = r2_score(y_true=y_test, y_pred=y_test_pred)\n",
    "\n",
    "# Print the R-squared score\n",
    "print(\"R-squared:\", round(knn_r2, 3))\n",
    "\n",
    "# Calculate Mean Absolute Percentage Error (MAPE) for the KNN model's predictions\n",
    "knn_mape = mean_absolute_percentage_error(y_true=y_test, y_pred=y_test_pred)\n",
    "\n",
    "# Print the MAPE score\n",
    "print(\"MAPE:\", round(knn_mape, 3))"
   ]
  },
  {
   "cell_type": "markdown",
   "metadata": {},
   "source": [
    "## RandomForest- Creation"
   ]
  },
  {
   "cell_type": "code",
   "execution_count": null,
   "metadata": {},
   "outputs": [],
   "source": [
    "# Create a full pipeline that includes the preprocessing steps and a RandomForestClassifier\n",
    "full_pipeline = make_pipeline(preprocessor, RandomForestClassifier())\n",
    "\n",
    "# Define a parameter grid for hyperparameter tuning\n",
    "param_grid = {\n",
    "    \"columntransformer__num_pipe__simpleimputer__strategy\": [\"median\"],\n",
    "    \"randomforestclassifier__n_estimators\": [200, 500],\n",
    "    \"randomforestclassifier__max_features\": ['sqrt', 'log2'],\n",
    "    'randomforestclassifier__max_depth': [4, 5, 6, 7, 8],\n",
    "    'randomforestclassifier__criterion': ['gini', 'entropy']\n",
    "}\n",
    "\n",
    "# Create a GridSearchCV object to search for the best hyperparameters\n",
    "search3 = GridSearchCV(full_pipeline, param_grid, cv=5, verbose=1)\n",
    "\n",
    "# Fit the GridSearchCV object on the training data\n",
    "search3.fit(X_train, y_train)\n",
    "\n",
    "# Get the best cross-validation score from the grid search for Random Forest\n",
    "best_score_rf = search3.best_score_\n",
    "\n",
    "# Store the best score in a dictionary\n",
    "scores3 = {\"rf\": best_score_rf}\n",
    "\n",
    "# Print the best parameters and the corresponding score\n",
    "print(\"Best parameters: \", search3.best_params_)\n",
    "print(\"Best score:\", best_score_rf)"
   ]
  },
  {
   "cell_type": "markdown",
   "metadata": {},
   "source": [
    "## RandomForest - Analysis"
   ]
  },
  {
   "cell_type": "code",
   "execution_count": 57,
   "metadata": {},
   "outputs": [
    {
     "name": "stdout",
     "output_type": "stream",
     "text": [
      "Training Accuracy: 0.545\n",
      "Testing Accuracy: 0.027 \n",
      "\n",
      "R-squared: 0.633\n",
      "MAPE: 0.151\n"
     ]
    }
   ],
   "source": [
    "# Get predictions for the training and testing datasets using the best Random Forest model from the GridSearchCV\n",
    "y_train_pred = search3.predict(X_train)\n",
    "y_test_pred = search3.predict(X_test)\n",
    "\n",
    "# Create confusion matrices for training and testing datasets\n",
    "confusion_matrix_train = confusion_matrix(y_train, y_train_pred)\n",
    "confusion_matrix_test = confusion_matrix(y_test, y_test_pred)\n",
    "\n",
    "# Calculate accuracy for training and testing datasets\n",
    "accuracy_train = accuracy_score(y_train, y_train_pred)\n",
    "accuracy_test = accuracy_score(y_test, y_test_pred)\n",
    "\n",
    "# Print the training and testing accuracies\n",
    "print(\"Training Accuracy:\", round(accuracy_train, 3))\n",
    "print(\"Testing Accuracy:\", round(accuracy_test, 3), \"\\n\")\n",
    "\n",
    "# Calculate R-squared (coefficient of determination) for the Random Forest model's predictions\n",
    "rf_r2 = r2_score(y_true=y_test, y_pred=y_test_pred)\n",
    "\n",
    "# Print the R-squared score\n",
    "print(\"R-squared:\", round(rf_r2, 3))\n",
    "\n",
    "# Calculate Mean Absolute Percentage Error (MAPE) for the Random Forest model's predictions\n",
    "rf_mape = mean_absolute_percentage_error(y_true=y_test, y_pred=y_test_pred)\n",
    "\n",
    "# Print the MAPE score\n",
    "print(\"MAPE:\", round(rf_mape, 3))"
   ]
  },
  {
   "cell_type": "markdown",
   "metadata": {},
   "source": [
    "## SGDRegressor"
   ]
  },
  {
   "cell_type": "code",
   "execution_count": 58,
   "metadata": {},
   "outputs": [
    {
     "name": "stdout",
     "output_type": "stream",
     "text": [
      "MAPE: 0.151\n",
      "R-squared: -1.8362582799528853e+23\n"
     ]
    }
   ],
   "source": [
    "# Create a pipeline for SGDRegressor that includes preprocessing steps\n",
    "sgd_pipeline = make_pipeline(preprocessor, SGDRegressor())\n",
    "\n",
    "# Fit the SGDRegressor pipeline on the training data\n",
    "sgd_pipeline.fit(X_train, y_train)\n",
    "\n",
    "# Make predictions on the testing data using SGDRegressor\n",
    "sgd_predictions = sgd_pipeline.predict(X_test)\n",
    "\n",
    "# Calculate the Mean Absolute Percentage Error (MAPE) for SGDRegressor predictions\n",
    "SGD_mape = mean_absolute_percentage_error(y_true=y_test, y_pred=sgd_predictions)\n",
    "\n",
    "# Print the MAPE score\n",
    "print(\"MAPE:\", round(SGD_mape, 3))\n",
    "\n",
    "# Calculate R-squared (coefficient of determination) for SGDRegressor predictions\n",
    "SGR_r2 = r2_score(y_true=y_test, y_pred=sgd_predictions)\n",
    "\n",
    "# Print the R-squared score\n",
    "print(\"R-squared:\", round(SGR_r2, 3))"
   ]
  },
  {
   "cell_type": "markdown",
   "metadata": {},
   "source": [
    "## LinearRegression"
   ]
  },
  {
   "cell_type": "code",
   "execution_count": 59,
   "metadata": {},
   "outputs": [
    {
     "name": "stdout",
     "output_type": "stream",
     "text": [
      "MAPE: 0.151\n",
      "R-squared: 0.884\n"
     ]
    }
   ],
   "source": [
    "# Create a pipeline for Linear Regression that includes preprocessing steps\n",
    "lr_pipeline = make_pipeline(preprocessor, LinearRegression())\n",
    "\n",
    "# Fit the Linear Regression pipeline on the training data\n",
    "lr_pipeline.fit(X_train, y_train)\n",
    "\n",
    "# Make predictions on the testing data using Linear Regression\n",
    "lr_predictions = lr_pipeline.predict(X_test)\n",
    "\n",
    "# Calculate the Mean Absolute Percentage Error (MAPE) for Linear Regression predictions\n",
    "lr_mape = mean_absolute_percentage_error(y_true=y_test, y_pred=lr_predictions)\n",
    "\n",
    "# Print the MAPE score\n",
    "print(\"MAPE:\", round(lr_mape, 3))\n",
    "\n",
    "# Calculate R-squared (coefficient of determination) for Linear Regression predictions\n",
    "lr_r2 = r2_score(y_true=y_test, y_pred=lr_predictions)\n",
    "\n",
    "# Print the R-squared score\n",
    "print(\"R-squared:\", round(lr_r2, 3))"
   ]
  },
  {
   "cell_type": "markdown",
   "metadata": {},
   "source": [
    "# Downloand"
   ]
  },
  {
   "cell_type": "code",
   "execution_count": null,
   "metadata": {},
   "outputs": [],
   "source": [
    "# Select the portion of the 'housing_data' DataFrame for submission (assuming it contains features for submission)\n",
    "X_submission = housing_data[0:1459]\n",
    "\n",
    "# Make predictions using the trained model (in this case, 'search4') on the submission data\n",
    "ids_com['Expensive'] = search4.predict(X_submission)  # Change the pipeline to 'search4'\n",
    "\n",
    "# Save the predictions and the 'ids_com' DataFrame to a CSV file\n",
    "ids_com.to_csv(r'submission_9.csv', index=False)  # Change the file name as needed"
   ]
  }
 ],
 "metadata": {
  "kernelspec": {
   "display_name": "Python 3 (ipykernel)",
   "language": "python",
   "name": "python3"
  },
  "orig_nbformat": 4
 },
 "nbformat": 4,
 "nbformat_minor": 2
}
