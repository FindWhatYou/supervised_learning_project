{
 "cells": [
  {
   "cell_type": "code",
   "execution_count": 233,
   "metadata": {},
   "outputs": [],
   "source": [
    "import pandas as pd\n",
    "from sklearn.model_selection import train_test_split\n",
    "from sklearn.impute import SimpleImputer\n",
    "from sklearn.tree import DecisionTreeClassifier\n",
    "from sklearn.pipeline import make_pipeline\n",
    "from sklearn.preprocessing import OneHotEncoder\n",
    "from sklearn.preprocessing import OrdinalEncoder\n",
    "from sklearn.preprocessing import MinMaxScaler\n",
    "from sklearn.compose import ColumnTransformer\n",
    "from sklearn.metrics import confusion_matrix, accuracy_score\n",
    "from sklearn.metrics import accuracy_score\n",
    "from sklearn.metrics import r2_score\n",
    "from sklearn.metrics import mean_absolute_percentage_error\n",
    "from sklearn.feature_selection import VarianceThreshold, SelectKBest, f_regression, RFECV, SelectFromModel\n",
    "from sklearn.linear_model import LinearRegression, SGDRegressor\n",
    "\n",
    "\n",
    "pd.set_option('display.max_columns', None)\n",
    "pd.set_option('display.max_rows', 80)"
   ]
  },
  {
   "cell_type": "code",
   "execution_count": 234,
   "metadata": {},
   "outputs": [],
   "source": [
    "def gd_path(file_id):\n",
    "    \"\"\"Generate a shareable link from Google Drive file id.\"\"\"\n",
    "    return f\"https://drive.google.com/uc?export=download&id={file_id}\"\n",
    "\n",
    "files_id = {\n",
    "    'housing_data':\"1kX_jcLeBpBGvTo8FXDeU2MK-aw1a0voU\", #iteration7 data\n",
    "    'test_housing_data':\"1CMsAWhWKWBjI6DDEHtcYmRVZRazfE9bo\", #test data for housing\n",
    "    'ids_com':\"10gwiL49calkj-xbx-3rQEK4H2zoJcU11\" #ID for the commiting of the project\n",
    "\n",
    "}\n",
    "\n",
    "housing_data = pd.read_csv(gd_path(files_id['housing_data']), sep=\",\")\n",
    "test_housing_data = pd.read_csv(gd_path(files_id['test_housing_data']), sep=\",\")\n",
    "ids_com = pd.read_csv(gd_path(files_id['ids_com']), sep=\",\")\n",
    "df = housing_data"
   ]
  },
  {
   "cell_type": "markdown",
   "metadata": {},
   "source": [
    "# Pre-Processing Pipe"
   ]
  },
  {
   "cell_type": "markdown",
   "metadata": {},
   "source": [
    "## Ordinary columns"
   ]
  },
  {
   "cell_type": "markdown",
   "metadata": {},
   "source": [
    "This part was done by hands. Many Bothans died to bring us this information."
   ]
  },
  {
   "cell_type": "code",
   "execution_count": 235,
   "metadata": {},
   "outputs": [],
   "source": [
    "from sklearn.model_selection import train_test_split\n",
    "\n",
    "# X and y creation\n",
    "y = df.pop(\"SalePrice\")\n",
    "\n",
    "# Feature Engineering\n",
    "X = df\n",
    "\n",
    "# data splitting\n",
    "X_train, X_test, y_train, y_test = train_test_split(X, y, test_size=0.2, random_state=123)"
   ]
  },
  {
   "cell_type": "code",
   "execution_count": 236,
   "metadata": {},
   "outputs": [],
   "source": [
    "# building the pipeline\n",
    "X_cat = X.select_dtypes(exclude=\"number\").copy()\n",
    "X_num = X.select_dtypes(include=\"number\").copy()\n",
    "\n",
    "#  numerical pipeline\n",
    "numeric_pipe = make_pipeline(\n",
    "    SimpleImputer(strategy=\"mean\"))#,\n",
    "   # MinMaxScaler(),\n",
    "   # VarianceThreshold(threshold=0.0015)) # maybe remove it\n",
    "    \n",
    "\n",
    "\n",
    "# categorical pipeline\n",
    "# defining ordinal & onehot columns\n",
    "\n",
    "ordinal_cols = X_cat.columns.get_indexer(['LandContour', 'LandSlope',\n",
    "                     'ExterQual', 'ExterCond', 'BsmtQual', 'BsmtCond',\n",
    "                     'BsmtExposure', 'BsmtFinType1', 'BsmtFinType2',\n",
    "                     'HeatingQC', 'KitchenQual', 'Functional',\n",
    "                     'FireplaceQu', 'GarageFinish', 'GarageQual', 'GarageCond',\n",
    "                     'PoolQC']) \n",
    "\n",
    "onehot_cols = X_cat.columns.get_indexer(['MSZoning', 'Condition1', 'Heating', 'Street', 'CentralAir', \n",
    "                                         'Foundation', 'Alley', 'LotShape', 'Utilities', 'LotConfig', \n",
    "                                         'Neighborhood', 'Condition2', 'BldgType', 'HouseStyle', \n",
    "                                         'RoofStyle', 'RoofMatl', 'Exterior1st', 'Exterior2nd', 'MasVnrType', \n",
    "                                         'Electrical', 'GarageType', 'PavedDrive', 'Fence', 'MiscFeature',\n",
    "                                         'SaleType', 'SaleCondition'])\n",
    "\n",
    "\n",
    "\n",
    "# defining the categorical encoder\n",
    "# we manually establish the order of the categories for our ordinal feature (Cabin), including \"N_A\"\n",
    "LandContour = ['Lvl', 'Bnk', 'HLS', 'Low']\n",
    "LandSlope = ['Gtl', 'Mod', 'Sev']\n",
    "ExterQual = ['Ex', 'Gd', 'TA', 'Fa', 'Po']\n",
    "ExterCond = ['Ex', 'Gd', 'TA', 'Fa', 'Po']\n",
    "BsmtQual = ['Ex', 'Gd', 'TA', 'Fa', 'Po', 'N_A']\n",
    "BsmtCond = ['Ex', 'Gd', 'TA', 'Fa', 'Po', 'N_A']\n",
    "BsmtExposure = ['Gd', 'Av', 'Mn', 'No', 'N_A']\n",
    "BsmtFinType1 = ['GLQ', 'ALQ', 'BLQ', 'Rec', 'LwQ', 'Unf', 'N_A']\n",
    "BsmtFinType2 = ['GLQ', 'ALQ', 'BLQ', 'Rec', 'LwQ', 'Unf', 'N_A']\n",
    "HeatingQC = ['Ex', 'Gd', 'TA', 'Fa', 'Po']\n",
    "KitchenQual = ['Ex', 'Gd', 'TA', 'Fa', 'Po']\n",
    "Functional = ['Typ', 'Min1', 'Min2', 'Mod', 'Maj1', 'Maj2', 'Sev', 'Sal']\n",
    "FireplaceQu = ['Ex', 'Gd', 'TA', 'Fa', 'Po', 'N_A']\n",
    "GarageFinish = ['Fin', 'RFn', 'Unf', 'N_A']\n",
    "GarageQual = ['Ex', 'Gd', 'TA', 'Fa', 'Po', 'N_A']\n",
    "GarageCond = ['Ex', 'Gd', 'TA', 'Fa', 'Po', 'N_A']\n",
    "PoolQC = ['Ex', 'Gd', 'TA', 'Fa', 'N_A']\n",
    "\n",
    "\n",
    "categorical_encoder = ColumnTransformer(\n",
    "    transformers=[\n",
    "        (\"cat_ordinal\", OrdinalEncoder(categories=[LandContour,LandSlope,\n",
    "                                                    ExterQual, ExterCond, BsmtQual, BsmtCond,\n",
    "                                                    BsmtExposure, BsmtFinType1, BsmtFinType2,\n",
    "                                                    HeatingQC, KitchenQual, Functional,\n",
    "                                                    FireplaceQu, GarageFinish, GarageQual, GarageCond,\n",
    "                                                    PoolQC]), ordinal_cols),\n",
    "\n",
    "        (\"cat_onehot\", OneHotEncoder(handle_unknown=\"ignore\"), onehot_cols)\n",
    "    ]\n",
    ")\n",
    "\n",
    "\n",
    "categoric_pipe = make_pipeline(\n",
    "    SimpleImputer(strategy=\"constant\", fill_value=\"N_A\"),\n",
    "    categorical_encoder \n",
    ")\n",
    "\n",
    "preprocessor = ColumnTransformer(\n",
    "    transformers=[\n",
    "        (\"num_pipe\", numeric_pipe, X_num.columns),\n",
    "        (\"cat_pipe\", categoric_pipe, X_cat.columns),\n",
    "    ]\n",
    ")"
   ]
  },
  {
   "cell_type": "markdown",
   "metadata": {},
   "source": [
    "# Models"
   ]
  },
  {
   "cell_type": "markdown",
   "metadata": {},
   "source": [
    "## Decisiontree"
   ]
  },
  {
   "cell_type": "code",
   "execution_count": 237,
   "metadata": {},
   "outputs": [
    {
     "name": "stdout",
     "output_type": "stream",
     "text": [
      "Fitting 5 folds for each of 1 candidates, totalling 5 fits\n"
     ]
    },
    {
     "name": "stderr",
     "output_type": "stream",
     "text": [
      "/Users/Smirnov/anaconda3/lib/python3.11/site-packages/sklearn/model_selection/_split.py:700: UserWarning: The least populated class in y has only 1 members, which is less than n_splits=5.\n",
      "  warnings.warn(\n"
     ]
    },
    {
     "name": "stdout",
     "output_type": "stream",
     "text": [
      "Best parameters:  {'columntransformer__num_pipe__simpleimputer__strategy': 'mean', 'decisiontreeclassifier__max_depth': 18, 'decisiontreeclassifier__min_samples_leaf': 10}\n"
     ]
    },
    {
     "data": {
      "text/plain": [
       "{'dtree': 0.014555592237995671}"
      ]
     },
     "execution_count": 237,
     "metadata": {},
     "output_type": "execute_result"
    }
   ],
   "source": [
    "from sklearn.model_selection import GridSearchCV\n",
    "\n",
    "full_pipeline = make_pipeline(preprocessor,\n",
    "                              DecisionTreeClassifier())\n",
    "\n",
    "'''param_grid = {\n",
    "    \"columntransformer__num_pipe__simpleimputer__strategy\":[\"mean\",\"median\"],\n",
    "    \"decisiontreeclassifier__max_depth\": range(1, 21),\n",
    "    \"decisiontreeclassifier__min_samples_leaf\": range(1, 21)\n",
    "}'''\n",
    "\n",
    "param_grid = {\n",
    "    \"columntransformer__num_pipe__simpleimputer__strategy\":[\"mean\"],\n",
    "    \"decisiontreeclassifier__max_depth\": [18],\n",
    "    \"decisiontreeclassifier__min_samples_leaf\": [10]\n",
    "}\n",
    "\n",
    "search = GridSearchCV(full_pipeline,\n",
    "                      param_grid,\n",
    "                      cv=5,\n",
    "                      verbose=1)\n",
    "\n",
    "search.fit(X_train, y_train)\n",
    "\n",
    "scores = {\"dtree\" : search.best_score_}\n",
    "print(\"Best parameters: \", search.best_params_)\n",
    "\n",
    "scores"
   ]
  },
  {
   "cell_type": "markdown",
   "metadata": {},
   "source": [
    "## Decisiontree - Analysis"
   ]
  },
  {
   "cell_type": "code",
   "execution_count": 238,
   "metadata": {},
   "outputs": [
    {
     "name": "stdout",
     "output_type": "stream",
     "text": [
      "Training Accuracy: 0.17\n",
      "Testing Accuracy: 0.003 \n",
      "\n",
      "R-squared: 0.372\n",
      "MAPE: 0.202\n"
     ]
    }
   ],
   "source": [
    "# Get predictions for the training and testing datasets\n",
    "y_train_pred = search.predict(X_train)\n",
    "y_test_pred = search.predict(X_test)\n",
    "\n",
    "# Create confusion matrices\n",
    "confusion_matrix_train = confusion_matrix(y_train, y_train_pred)\n",
    "confusion_matrix_test = confusion_matrix(y_test, y_test_pred)\n",
    "\n",
    "# Calculate accuracy for training and testing datasets\n",
    "accuracy_train = accuracy_score(y_train, y_train_pred)\n",
    "accuracy_test = accuracy_score(y_test, y_test_pred)\n",
    "\n",
    "print(\"Training Accuracy:\", round(accuracy_train,3))\n",
    "print(\"Testing Accuracy:\", round(accuracy_test,3),\"\\n\")\n",
    "\n",
    "\n",
    "dtree_r2 = r2_score(y_true = y_test,\n",
    "                    y_pred = y_test_pred)\n",
    "\n",
    "print(\"R-squared:\", round(dtree_r2,3))\n",
    "\n",
    "dtree_r2 = mean_absolute_percentage_error(y_true = y_test,\n",
    "                    y_pred = y_test_pred)\n",
    "\n",
    "print(\"MAPE:\", round(dtree_r2,3))"
   ]
  },
  {
   "cell_type": "markdown",
   "metadata": {},
   "source": [
    "## KNN\n"
   ]
  },
  {
   "cell_type": "code",
   "execution_count": 239,
   "metadata": {},
   "outputs": [
    {
     "name": "stdout",
     "output_type": "stream",
     "text": [
      "Fitting 10 folds for each of 1 candidates, totalling 10 fits\n"
     ]
    },
    {
     "name": "stderr",
     "output_type": "stream",
     "text": [
      "/Users/Smirnov/anaconda3/lib/python3.11/site-packages/sklearn/model_selection/_split.py:700: UserWarning: The least populated class in y has only 1 members, which is less than n_splits=10.\n",
      "  warnings.warn(\n"
     ]
    },
    {
     "name": "stdout",
     "output_type": "stream",
     "text": [
      "Best parameters:  {'columntransformer__num_pipe__simpleimputer__strategy': 'mean', 'kneighborsclassifier__n_neighbors': 1}\n"
     ]
    },
    {
     "data": {
      "text/plain": [
       "{'knn': 0.006005010315355144}"
      ]
     },
     "execution_count": 239,
     "metadata": {},
     "output_type": "execute_result"
    }
   ],
   "source": [
    "# Modeling Pipe - 2\n",
    "\n",
    "from sklearn.model_selection import GridSearchCV\n",
    "from sklearn.neighbors import KNeighborsClassifier\n",
    "\n",
    "\n",
    "full_pipeline = make_pipeline(preprocessor,\n",
    "                              KNeighborsClassifier())\n",
    "\n",
    "param_grid = {\n",
    "    \"columntransformer__num_pipe__simpleimputer__strategy\":[\"mean\"],\n",
    "    \"kneighborsclassifier__n_neighbors\": [1]\n",
    "}\n",
    "\n",
    "search2 = GridSearchCV(full_pipeline,\n",
    "                      param_grid,\n",
    "                      cv=10,\n",
    "                      verbose=1)\n",
    "\n",
    "search2.fit(X_train, y_train)\n",
    "\n",
    "scores2 = {\"knn\" : search2.best_score_}\n",
    "print(\"Best parameters: \", search2.best_params_)\n",
    "\n",
    "scores2\n"
   ]
  },
  {
   "cell_type": "markdown",
   "metadata": {},
   "source": [
    "## KNN - Analysis"
   ]
  },
  {
   "cell_type": "code",
   "execution_count": 240,
   "metadata": {},
   "outputs": [
    {
     "name": "stdout",
     "output_type": "stream",
     "text": [
      "Training Accuracy: 1.0\n",
      "Testing Accuracy: 0.007 \n",
      "\n",
      "R-squared: 0.467\n",
      "MAPE: 0.205\n"
     ]
    }
   ],
   "source": [
    "# Get predictions for the training and testing datasets\n",
    "y_train_pred = search2.predict(X_train)\n",
    "y_test_pred = search2.predict(X_test)\n",
    "\n",
    "# Create confusion matrices\n",
    "confusion_matrix_train = confusion_matrix(y_train, y_train_pred)\n",
    "confusion_matrix_test = confusion_matrix(y_test, y_test_pred)\n",
    "\n",
    "# Calculate accuracy for training and testing datasets\n",
    "accuracy_train = accuracy_score(y_train, y_train_pred)\n",
    "accuracy_test = accuracy_score(y_test, y_test_pred)\n",
    "\n",
    "print(\"Training Accuracy:\", round(accuracy_train,3))\n",
    "print(\"Testing Accuracy:\", round(accuracy_test,3),\"\\n\")\n",
    "\n",
    "\n",
    "dtree_r2 = r2_score(y_true = y_test,\n",
    "                    y_pred = y_test_pred)\n",
    "\n",
    "print(\"R-squared:\", round(dtree_r2,3))\n",
    "\n",
    "dtree_r2 = mean_absolute_percentage_error(y_true = y_test,\n",
    "                    y_pred = y_test_pred)\n",
    "\n",
    "print(\"MAPE:\", round(dtree_r2,3))"
   ]
  },
  {
   "cell_type": "markdown",
   "metadata": {},
   "source": [
    "## RandomForest"
   ]
  },
  {
   "cell_type": "code",
   "execution_count": 241,
   "metadata": {},
   "outputs": [
    {
     "name": "stdout",
     "output_type": "stream",
     "text": [
      "Fitting 5 folds for each of 1 candidates, totalling 5 fits\n"
     ]
    },
    {
     "name": "stderr",
     "output_type": "stream",
     "text": [
      "/Users/Smirnov/anaconda3/lib/python3.11/site-packages/sklearn/model_selection/_split.py:700: UserWarning: The least populated class in y has only 1 members, which is less than n_splits=5.\n",
      "  warnings.warn(\n"
     ]
    },
    {
     "name": "stdout",
     "output_type": "stream",
     "text": [
      "Best parameters:  {'columntransformer__num_pipe__simpleimputer__strategy': 'median', 'randomforestclassifier__criterion': 'gini', 'randomforestclassifier__max_depth': 10, 'randomforestclassifier__max_features': 'log2', 'randomforestclassifier__n_estimators': 500}\n"
     ]
    },
    {
     "data": {
      "text/plain": [
       "{'rf': 0.01370455962730641}"
      ]
     },
     "execution_count": 241,
     "metadata": {},
     "output_type": "execute_result"
    }
   ],
   "source": [
    "from sklearn.ensemble import RandomForestClassifier\n",
    "from sklearn.model_selection import GridSearchCV\n",
    "\n",
    "full_pipeline = make_pipeline(preprocessor,\n",
    "                              RandomForestClassifier())\n",
    "\n",
    "param_grid = {\n",
    "    \"columntransformer__num_pipe__simpleimputer__strategy\": [\"median\"],\n",
    "    \"randomforestclassifier__n_estimators\": [500],  # Adjust the number of trees\n",
    "    \"randomforestclassifier__max_depth\": [10],  # Adjust the maximum depth of trees\n",
    "    \"randomforestclassifier__max_features\": [\"log2\"],  # Try different feature subset sizes\n",
    "    \"randomforestclassifier__criterion\": [\"gini\"]  # Try both Gini and entropy criteria\n",
    "}\n",
    "\n",
    "\n",
    "'''param_grid = {\n",
    "    \"columntransformer__num_pipe__simpleimputer__strategy\": [\"median\"],\n",
    "    \"randomforestclassifier__n_estimators\": [100, 300, 500],  # Adjust the number of trees\n",
    "    \"randomforestclassifier__max_depth\": [None, 10, 20, 30],  # Adjust the maximum depth of trees\n",
    "    \"randomforestclassifier__max_features\": [\"sqrt\", \"log2\"],  # Try different feature subset sizes\n",
    "    \"randomforestclassifier__criterion\": [\"gini\", \"entropy\"]  # Try both Gini and entropy criteria\n",
    "}\n",
    "'''\n",
    "# need to be rearange \n",
    "search3 = GridSearchCV(full_pipeline,\n",
    "                      param_grid,\n",
    "                      cv=5,\n",
    "                      verbose=1)\n",
    "\n",
    "search3.fit(X_train, y_train)\n",
    "\n",
    "scores3 = {\"rf\" : search3.best_score_}\n",
    "print(\"Best parameters: \", search3.best_params_)\n",
    "scores3"
   ]
  },
  {
   "cell_type": "markdown",
   "metadata": {},
   "source": [
    "## RandomForest - Analysis"
   ]
  },
  {
   "cell_type": "code",
   "execution_count": 242,
   "metadata": {},
   "outputs": [
    {
     "name": "stdout",
     "output_type": "stream",
     "text": [
      "Training Accuracy: 0.988\n",
      "Testing Accuracy: 0.017 \n",
      "\n",
      "R-squared: 0.704\n",
      "MAPE: 0.157\n"
     ]
    }
   ],
   "source": [
    "# Get predictions for the training and testing datasets\n",
    "y_train_pred = search3.predict(X_train)\n",
    "y_test_pred = search3.predict(X_test)\n",
    "\n",
    "# Create confusion matrices\n",
    "confusion_matrix_train = confusion_matrix(y_train, y_train_pred)\n",
    "confusion_matrix_test = confusion_matrix(y_test, y_test_pred)\n",
    "\n",
    "# Calculate accuracy for training and testing datasets\n",
    "accuracy_train = accuracy_score(y_train, y_train_pred)\n",
    "accuracy_test = accuracy_score(y_test, y_test_pred)\n",
    "\n",
    "print(\"Training Accuracy:\", round(accuracy_train,3))\n",
    "print(\"Testing Accuracy:\", round(accuracy_test,3),\"\\n\")\n",
    "\n",
    "\n",
    "dtree_r2 = r2_score(y_true = y_test,\n",
    "                    y_pred = y_test_pred)\n",
    "\n",
    "print(\"R-squared:\", round(dtree_r2,3))\n",
    "\n",
    "dtree_r2 = mean_absolute_percentage_error(y_true = y_test,\n",
    "                    y_pred = y_test_pred)\n",
    "\n",
    "print(\"MAPE:\", round(dtree_r2,3))"
   ]
  },
  {
   "cell_type": "markdown",
   "metadata": {},
   "source": [
    "### SGDRegressor"
   ]
  },
  {
   "cell_type": "code",
   "execution_count": 243,
   "metadata": {},
   "outputs": [
    {
     "name": "stdout",
     "output_type": "stream",
     "text": [
      "MAPE: 0.157\n",
      "R-squared: -2.3536354199115552e+24\n"
     ]
    }
   ],
   "source": [
    "from sklearn.linear_model import LinearRegression, SGDRegressor\n",
    "\n",
    "sgd_pipeline = make_pipeline(preprocessor,\n",
    "                            SGDRegressor())\n",
    "\n",
    "sgd_pipeline.fit(X_train, y_train)\n",
    "\n",
    "sgd_predictions = sgd_pipeline.predict(X_test)\n",
    "\n",
    "SGD_mape = mean_absolute_percentage_error(y_true = y_test,\n",
    "                    y_pred = y_test_pred)\n",
    "\n",
    "print(\"MAPE:\", round(SGD_mape,3))\n",
    "\n",
    "SGR_r2 = r2_score(y_true = y_test,\n",
    "                    y_pred = sgd_predictions)\n",
    "\n",
    "print(\"R-squared:\", round(SGR_r2, 3))"
   ]
  },
  {
   "cell_type": "markdown",
   "metadata": {},
   "source": [
    "### LinearRegression"
   ]
  },
  {
   "cell_type": "code",
   "execution_count": 244,
   "metadata": {},
   "outputs": [
    {
     "name": "stdout",
     "output_type": "stream",
     "text": [
      "MAPE: 0.157\n",
      "R-squared: 0.884\n"
     ]
    }
   ],
   "source": [
    "# Scale the data! \n",
    "\n",
    "lr_pipeline = make_pipeline(preprocessor,\n",
    "                            LinearRegression())\n",
    "\n",
    "lr_pipeline.fit(X_train, y_train)\n",
    "\n",
    "lr_predictions = lr_pipeline.predict(X_test)\n",
    "\n",
    "lr_mape = mean_absolute_percentage_error(y_true = y_test,\n",
    "                    y_pred = y_test_pred)\n",
    "\n",
    "print(\"MAPE:\", round(lr_mape,3))\n",
    "\n",
    "lr_r2 = r2_score(y_true = y_test,\n",
    "                    y_pred = lr_predictions)\n",
    "\n",
    "print(\"R-squared:\", round(lr_r2,3))"
   ]
  },
  {
   "cell_type": "markdown",
   "metadata": {},
   "source": [
    "# Iteration 0"
   ]
  },
  {
   "cell_type": "code",
   "execution_count": 245,
   "metadata": {},
   "outputs": [
    {
     "data": {
      "text/html": [
       "<div>\n",
       "<style scoped>\n",
       "    .dataframe tbody tr th:only-of-type {\n",
       "        vertical-align: middle;\n",
       "    }\n",
       "\n",
       "    .dataframe tbody tr th {\n",
       "        vertical-align: top;\n",
       "    }\n",
       "\n",
       "    .dataframe thead th {\n",
       "        text-align: right;\n",
       "    }\n",
       "</style>\n",
       "<table border=\"1\" class=\"dataframe\">\n",
       "  <thead>\n",
       "    <tr style=\"text-align: right;\">\n",
       "      <th></th>\n",
       "      <th>decision_tree</th>\n",
       "      <th>knn</th>\n",
       "      <th>RF</th>\n",
       "      <th>SGDR</th>\n",
       "      <th>LR</th>\n",
       "    </tr>\n",
       "  </thead>\n",
       "  <tbody>\n",
       "    <tr>\n",
       "      <th>baseline</th>\n",
       "      <td>0.372</td>\n",
       "      <td>0.467</td>\n",
       "      <td>0.704</td>\n",
       "      <td>-2.353635e+24</td>\n",
       "      <td>0.884</td>\n",
       "    </tr>\n",
       "  </tbody>\n",
       "</table>\n",
       "</div>"
      ],
      "text/plain": [
       "          decision_tree    knn     RF          SGDR     LR\n",
       "baseline          0.372  0.467  0.704 -2.353635e+24  0.884"
      ]
     },
     "execution_count": 245,
     "metadata": {},
     "output_type": "execute_result"
    }
   ],
   "source": [
    "y_test_pred_tree = search.predict(X_test)\n",
    "y_test_pred_knn = search2.predict(X_test)\n",
    "y_test_pred_rf = search3.predict(X_test)\n",
    "y_test_pred_SGDR = sgd_pipeline.predict(X_test)\n",
    "y_test_pred_lr = lr_pipeline.predict(X_test)\n",
    "\n",
    "\n",
    "baseline_tree_r2 = r2_score(y_test, y_test_pred_tree)\n",
    "baseline_knn_r2 = r2_score(y_test, y_test_pred_knn)\n",
    "baseline_rf = r2_score(y_test, y_test_pred_rf)\n",
    "baseline_SGDR = r2_score(y_test, y_test_pred_SGDR)\n",
    "baseline_lr = r2_score(y_test, y_test_pred_lr)\n",
    "\n",
    "\n",
    "performances = pd.DataFrame({'decision_tree': round(baseline_tree_r2,3),\n",
    "                             'knn': round(baseline_knn_r2,3), \n",
    "                             'RF': round(baseline_rf,3),\n",
    "                             'SGDR': round(baseline_SGDR, 2),\n",
    "                            'LR': round(baseline_lr,3)},\n",
    "                            index=['baseline'])\n",
    "\n",
    "performances"
   ]
  },
  {
   "cell_type": "markdown",
   "metadata": {},
   "source": [
    "With out Threshold and Skaler\n",
    "\n",
    "| Model       | Decision Tree | KNN   | Random Forest | SGDR  | Logistic Regression |\n",
    "|-------------|---------------|-------|---------------|-------|----------------------|\n",
    "| Baseline    | 0.372         | -0.229 | 0.697         | -3.505539e+22  | 0.884               |"
   ]
  },
  {
   "cell_type": "markdown",
   "metadata": {},
   "source": [
    "With Threshold and Skaler\n",
    "\n",
    "| Model       | Decision Tree | KNN   | Random Forest | SGDR  | Logistic Regression |\n",
    "|-------------|---------------|-------|---------------|-------|----------------------|\n",
    "| Baseline    | 0.454         | 0.108 | 0.595         | 0.84  | 0.866                |\n"
   ]
  },
  {
   "cell_type": "markdown",
   "metadata": {},
   "source": [
    "With Threshold and Skaler and GridSearh\n",
    "\n",
    "| Model       | Decision Tree | KNN   | Random Forest | SGDR  | Logistic Regression |\n",
    "|-------------|---------------|-------|---------------|-------|----------------------|\n",
    "| Baseline    | 0.31           | 0.64 | 0.7           | 0.87  |   -7.169538e+19          |"
   ]
  },
  {
   "cell_type": "code",
   "execution_count": 246,
   "metadata": {},
   "outputs": [
    {
     "name": "stdout",
     "output_type": "stream",
     "text": [
      "Readoy\n"
     ]
    }
   ],
   "source": [
    "print('Readoy')"
   ]
  },
  {
   "cell_type": "markdown",
   "metadata": {},
   "source": [
    "# Downloand"
   ]
  },
  {
   "cell_type": "code",
   "execution_count": 247,
   "metadata": {},
   "outputs": [
    {
     "data": {
      "text/plain": [
       "\"X_sumbmition = housing_data[0:1459]\\nids_com['Expensive'] = search4.predict(X_sumbmition) # only cange the piplene! \\nids_com.to_csv(r'submission_9.csv', index=False) #only cahnge ist \""
      ]
     },
     "execution_count": 247,
     "metadata": {},
     "output_type": "execute_result"
    }
   ],
   "source": [
    "\"\"\"X_sumbmition = housing_data[0:1459]\n",
    "ids_com['Expensive'] = search4.predict(X_sumbmition) # only cange the piplene! \n",
    "ids_com.to_csv(r'submission_9.csv', index=False) #only cahnge ist \"\"\""
   ]
  },
  {
   "cell_type": "markdown",
   "metadata": {},
   "source": []
  }
 ],
 "metadata": {
  "kernelspec": {
   "display_name": "Python 3 (ipykernel)",
   "language": "python",
   "name": "python3"
  },
  "language_info": {
   "codemirror_mode": {
    "name": "ipython",
    "version": 3
   },
   "file_extension": ".py",
   "mimetype": "text/x-python",
   "name": "python",
   "nbconvert_exporter": "python",
   "pygments_lexer": "ipython3",
   "version": "3.11.3"
  },
  "orig_nbformat": 4
 },
 "nbformat": 4,
 "nbformat_minor": 2
}
