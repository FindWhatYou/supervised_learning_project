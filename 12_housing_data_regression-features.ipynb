{
 "cells": [
  {
   "cell_type": "code",
   "execution_count": 587,
   "metadata": {},
   "outputs": [],
   "source": [
    "import pandas as pd\n",
    "import seaborn as sns\n",
    "import matplotlib.pyplot as plt\n",
    "from sklearn.model_selection import train_test_split\n",
    "from sklearn.impute import SimpleImputer\n",
    "from sklearn.tree import DecisionTreeClassifier\n",
    "from sklearn.pipeline import make_pipeline\n",
    "from sklearn.preprocessing import OneHotEncoder\n",
    "from sklearn.preprocessing import OrdinalEncoder\n",
    "from sklearn.preprocessing import MinMaxScaler\n",
    "from sklearn.compose import ColumnTransformer\n",
    "from sklearn.metrics import confusion_matrix, accuracy_score\n",
    "from sklearn.metrics import accuracy_score\n",
    "from sklearn.metrics import r2_score\n",
    "from sklearn.metrics import mean_absolute_percentage_error\n",
    "from sklearn.feature_selection import VarianceThreshold, SelectKBest, f_regression, RFECV, SelectFromModel\n",
    "from sklearn.linear_model import LinearRegression, SGDRegressor"
   ]
  },
  {
   "cell_type": "code",
   "execution_count": 588,
   "metadata": {},
   "outputs": [],
   "source": [
    "def gd_path(file_id):\n",
    "    \"\"\"Generate a shareable link from Google Drive file id.\"\"\"\n",
    "    return f\"https://drive.google.com/uc?export=download&id={file_id}\"\n",
    "\n",
    "files_id = {\n",
    "    'housing_data':\"1kX_jcLeBpBGvTo8FXDeU2MK-aw1a0voU\", #iteration7 data\n",
    "    'test_housing_data':\"1CMsAWhWKWBjI6DDEHtcYmRVZRazfE9bo\", #test data for housing\n",
    "    'ids_com':\"10gwiL49calkj-xbx-3rQEK4H2zoJcU11\" #ID for the commiting of the project\n",
    "\n",
    "}\n",
    "\n",
    "housing_data = pd.read_csv(gd_path(files_id['housing_data']), sep=\",\")\n",
    "test_housing_data = pd.read_csv(gd_path(files_id['test_housing_data']), sep=\",\")\n",
    "ids_com = pd.read_csv(gd_path(files_id['ids_com']), sep=\",\")\n",
    "df = housing_data"
   ]
  },
  {
   "cell_type": "markdown",
   "metadata": {},
   "source": [
    "# Pre-Processing Pipe"
   ]
  },
  {
   "cell_type": "markdown",
   "metadata": {},
   "source": [
    "## Ordinary columns"
   ]
  },
  {
   "cell_type": "markdown",
   "metadata": {},
   "source": [
    "This part was done by hands. Many Bothans died to bring us this information."
   ]
  },
  {
   "cell_type": "code",
   "execution_count": 589,
   "metadata": {},
   "outputs": [],
   "source": [
    "from sklearn.model_selection import train_test_split\n",
    "\n",
    "# X and y creation\n",
    "y = df.pop(\"SalePrice\")\n",
    "\n",
    "# Feature Engineering\n",
    "X = df\n",
    "\n",
    "# data splitting\n",
    "X_train, X_test, y_train, y_test = train_test_split(X, y, test_size=0.2, random_state=123)"
   ]
  },
  {
   "cell_type": "code",
   "execution_count": 590,
   "metadata": {},
   "outputs": [],
   "source": [
    "# Separating numerical features from your training and testing datasets\n",
    "X_num_train = X_train.select_dtypes(include=\"number\").copy()\n",
    "X_num_test = X_test.select_dtypes(include=\"number\").copy()\n",
    "\n",
    "\n",
    "# Define ordinal and one-hot encoding columns\n",
    "ordinal_cols = X_train.columns.get_indexer(['LandContour', 'LandSlope',\n",
    "                     'ExterQual', 'ExterCond', 'BsmtQual', 'BsmtCond',\n",
    "                     'BsmtExposure', 'BsmtFinType1', 'BsmtFinType2',\n",
    "                     'HeatingQC', 'KitchenQual', 'Functional',\n",
    "                     'FireplaceQu', 'GarageFinish', 'GarageQual', 'GarageCond',\n",
    "                     'PoolQC'])\n",
    "\n",
    "onehot_cols = X_train.columns.get_indexer(['MSZoning', 'Condition1', 'Heating', 'Street', 'CentralAir', \n",
    "                                         'Foundation', 'Alley', 'LotShape', 'Utilities', 'LotConfig', \n",
    "                                         'Neighborhood', 'Condition2', 'BldgType', 'HouseStyle', \n",
    "                                         'RoofStyle', 'RoofMatl', 'Exterior1st', 'Exterior2nd', 'MasVnrType', \n",
    "                                         'Electrical', 'GarageType', 'PavedDrive', 'Fence', 'MiscFeature',\n",
    "                                         'SaleType', 'SaleCondition'])\n",
    "\n",
    "# Manually establish the order of categories for ordinal features, including \"N_A\"\n",
    "ordinal_categories = [['Lvl', 'Bnk', 'HLS', 'Low', 'N_A'],\n",
    "                      ['Gtl', 'Mod', 'Sev', 'N_A'],\n",
    "                      ['Ex', 'Gd', 'TA', 'Fa', 'Po', 'N_A'],\n",
    "                      ['Ex', 'Gd', 'TA', 'Fa', 'Po', 'N_A'],\n",
    "                      ['Ex', 'Gd', 'TA', 'Fa', 'Po', 'N_A'],\n",
    "                      ['Ex', 'Gd', 'TA', 'Fa', 'Po', 'N_A'],\n",
    "                      ['Gd', 'Av', 'Mn', 'No', 'N_A'],\n",
    "                      ['GLQ', 'ALQ', 'BLQ', 'Rec', 'LwQ', 'Unf', 'N_A'],\n",
    "                      ['GLQ', 'ALQ', 'BLQ', 'Rec', 'LwQ', 'Unf', 'N_A'],\n",
    "                      ['Ex', 'Gd', 'TA', 'Fa', 'Po', 'N_A'],\n",
    "                      ['Ex', 'Gd', 'TA', 'Fa', 'Po', 'N_A'],\n",
    "                      ['Typ', 'Min1', 'Min2', 'Mod', 'Maj1', 'Maj2', 'Sev', 'Sal', 'N_A'],\n",
    "                      ['Ex', 'Gd', 'TA', 'Fa', 'Po', 'N_A'],\n",
    "                      ['Fin', 'RFn', 'Unf', 'N_A'],\n",
    "                      ['Ex', 'Gd', 'TA', 'Fa', 'Po', 'N_A'],\n",
    "                      ['Ex', 'Gd', 'TA', 'Fa', 'Po', 'N_A'],\n",
    "                      ['Ex', 'Gd', 'TA', 'Fa', 'N_A']]\n",
    "\n",
    "# Create a categorical encoder\n",
    "categorical_encoder = ColumnTransformer(\n",
    "    transformers=[\n",
    "        (\"cat_ordinal\", OrdinalEncoder(categories=ordinal_categories), ordinal_cols),\n",
    "        (\"cat_onehot\", OneHotEncoder(handle_unknown=\"ignore\"), onehot_cols)\n",
    "    ]\n",
    ")\n",
    "\n",
    "# Create pipelines for numerical and categorical features\n",
    "numeric_pipe = make_pipeline(\n",
    "    SimpleImputer(strategy='mean'),\n",
    "    SelectKBest(score_func=f_regression, k=12),\n",
    "    MinMaxScaler(),\n",
    "    VarianceThreshold(threshold=0.005)\n",
    ")\n",
    "\n",
    "categoric_pipe = make_pipeline(\n",
    "    SimpleImputer(strategy=\"constant\", fill_value=\"N_A\"),\n",
    "    categorical_encoder\n",
    ")\n",
    "\n",
    "# Create a preprocessor that applies the appropriate pipeline to each feature type\n",
    "preprocessor = ColumnTransformer(\n",
    "    transformers=[\n",
    "        (\"num_pipe\", numeric_pipe, X_num_train.columns),\n",
    "        (\"cat_pipe\", categoric_pipe, X_train.columns)\n",
    "    ]\n",
    ")\n",
    "\n"
   ]
  },
  {
   "cell_type": "markdown",
   "metadata": {},
   "source": [
    "# Models"
   ]
  },
  {
   "cell_type": "markdown",
   "metadata": {},
   "source": [
    "## Decisiontree"
   ]
  },
  {
   "cell_type": "code",
   "execution_count": 591,
   "metadata": {},
   "outputs": [
    {
     "name": "stdout",
     "output_type": "stream",
     "text": [
      "Fitting 5 folds for each of 1 candidates, totalling 5 fits\n"
     ]
    },
    {
     "name": "stderr",
     "output_type": "stream",
     "text": [
      "/Users/Smirnov/anaconda3/lib/python3.11/site-packages/sklearn/model_selection/_split.py:700: UserWarning: The least populated class in y has only 1 members, which is less than n_splits=5.\n",
      "  warnings.warn(\n"
     ]
    },
    {
     "name": "stdout",
     "output_type": "stream",
     "text": [
      "Best parameters:  {'columntransformer__num_pipe__simpleimputer__strategy': 'mean', 'decisiontreeclassifier__max_depth': 18, 'decisiontreeclassifier__min_samples_leaf': 10}\n"
     ]
    },
    {
     "data": {
      "text/plain": [
       "{'dtree': 0.015413961336708118}"
      ]
     },
     "execution_count": 591,
     "metadata": {},
     "output_type": "execute_result"
    }
   ],
   "source": [
    "from sklearn.model_selection import GridSearchCV\n",
    "\n",
    "full_pipeline = make_pipeline(preprocessor,\n",
    "                              DecisionTreeClassifier())\n",
    "\n",
    "'''param_grid = {\n",
    "    \"columntransformer__num_pipe__simpleimputer__strategy\":[\"mean\",\"median\"],\n",
    "    \"decisiontreeclassifier__max_depth\": range(1, 21),\n",
    "    \"decisiontreeclassifier__min_samples_leaf\": range(1, 21)\n",
    "}'''\n",
    "\n",
    "param_grid = {\n",
    "    \"columntransformer__num_pipe__simpleimputer__strategy\":[\"mean\"],\n",
    "    \"decisiontreeclassifier__max_depth\": [18],\n",
    "    \"decisiontreeclassifier__min_samples_leaf\": [10]\n",
    "}\n",
    "\n",
    "search = GridSearchCV(full_pipeline,\n",
    "                      param_grid,\n",
    "                      cv=5,\n",
    "                      verbose=1)\n",
    "\n",
    "search.fit(X_train, y_train)\n",
    "\n",
    "scores = {\"dtree\" : search.best_score_}\n",
    "print(\"Best parameters: \", search.best_params_)\n",
    "\n",
    "scores"
   ]
  },
  {
   "cell_type": "markdown",
   "metadata": {},
   "source": [
    "## Decisiontree - Analysis"
   ]
  },
  {
   "cell_type": "code",
   "execution_count": 592,
   "metadata": {},
   "outputs": [
    {
     "name": "stdout",
     "output_type": "stream",
     "text": [
      "Training Accuracy: 0.169\n",
      "Testing Accuracy: 0.01 \n",
      "\n",
      "R-squared: 0.393\n",
      "MAPE: 0.177\n"
     ]
    }
   ],
   "source": [
    "# Get predictions for the training and testing datasets\n",
    "y_train_pred = search.predict(X_train)\n",
    "y_test_pred = search.predict(X_test)\n",
    "\n",
    "# Create confusion matrices\n",
    "confusion_matrix_train = confusion_matrix(y_train, y_train_pred)\n",
    "confusion_matrix_test = confusion_matrix(y_test, y_test_pred)\n",
    "\n",
    "# Calculate accuracy for training and testing datasets\n",
    "accuracy_train = accuracy_score(y_train, y_train_pred)\n",
    "accuracy_test = accuracy_score(y_test, y_test_pred)\n",
    "\n",
    "print(\"Training Accuracy:\", round(accuracy_train,3))\n",
    "print(\"Testing Accuracy:\", round(accuracy_test,3),\"\\n\")\n",
    "\n",
    "\n",
    "dtree_r2 = r2_score(y_true = y_test,\n",
    "                    y_pred = y_test_pred)\n",
    "\n",
    "print(\"R-squared:\", round(dtree_r2,3))\n",
    "\n",
    "dtree_r2 = mean_absolute_percentage_error(y_true = y_test,\n",
    "                    y_pred = y_test_pred)\n",
    "\n",
    "print(\"MAPE:\", round(dtree_r2,3))"
   ]
  },
  {
   "cell_type": "markdown",
   "metadata": {},
   "source": [
    "## KNN\n"
   ]
  },
  {
   "cell_type": "code",
   "execution_count": 593,
   "metadata": {},
   "outputs": [
    {
     "name": "stdout",
     "output_type": "stream",
     "text": [
      "Fitting 10 folds for each of 14 candidates, totalling 140 fits\n"
     ]
    },
    {
     "name": "stderr",
     "output_type": "stream",
     "text": [
      "/Users/Smirnov/anaconda3/lib/python3.11/site-packages/sklearn/model_selection/_split.py:700: UserWarning: The least populated class in y has only 1 members, which is less than n_splits=10.\n",
      "  warnings.warn(\n"
     ]
    },
    {
     "name": "stdout",
     "output_type": "stream",
     "text": [
      "Best parameters:  {'columntransformer__num_pipe__simpleimputer__strategy': 'mean', 'kneighborsclassifier__n_neighbors': 28}\n"
     ]
    },
    {
     "data": {
      "text/plain": [
       "{'knn': 0.009401709401709403}"
      ]
     },
     "execution_count": 593,
     "metadata": {},
     "output_type": "execute_result"
    }
   ],
   "source": [
    "# Modeling Pipe - 2\n",
    "\n",
    "from sklearn.model_selection import GridSearchCV\n",
    "from sklearn.neighbors import KNeighborsClassifier\n",
    "\n",
    "\n",
    "full_pipeline = make_pipeline(preprocessor,\n",
    "                              KNeighborsClassifier())\n",
    "\n",
    "param_grid = {\n",
    "    \"columntransformer__num_pipe__simpleimputer__strategy\":[\"mean\"],\n",
    "    \"kneighborsclassifier__n_neighbors\": range(2,29,2)\n",
    "}\n",
    "\n",
    "search2 = GridSearchCV(full_pipeline,\n",
    "                      param_grid,\n",
    "                      cv=10,\n",
    "                      verbose=1)\n",
    "\n",
    "search2.fit(X_train, y_train)\n",
    "\n",
    "scores2 = {\"knn\" : search2.best_score_}\n",
    "print(\"Best parameters: \", search2.best_params_)\n",
    "\n",
    "scores2\n"
   ]
  },
  {
   "cell_type": "markdown",
   "metadata": {},
   "source": [
    "## KNN - Analysis"
   ]
  },
  {
   "cell_type": "code",
   "execution_count": 594,
   "metadata": {},
   "outputs": [
    {
     "name": "stdout",
     "output_type": "stream",
     "text": [
      "Training Accuracy: 0.071\n",
      "Testing Accuracy: 0.014 \n",
      "\n",
      "R-squared: 0.149\n",
      "MAPE: 0.222\n"
     ]
    }
   ],
   "source": [
    "# Get predictions for the training and testing datasets\n",
    "y_train_pred = search2.predict(X_train)\n",
    "y_test_pred = search2.predict(X_test)\n",
    "\n",
    "# Create confusion matrices\n",
    "confusion_matrix_train = confusion_matrix(y_train, y_train_pred)\n",
    "confusion_matrix_test = confusion_matrix(y_test, y_test_pred)\n",
    "\n",
    "# Calculate accuracy for training and testing datasets\n",
    "accuracy_train = accuracy_score(y_train, y_train_pred)\n",
    "accuracy_test = accuracy_score(y_test, y_test_pred)\n",
    "\n",
    "print(\"Training Accuracy:\", round(accuracy_train,3))\n",
    "print(\"Testing Accuracy:\", round(accuracy_test,3),\"\\n\")\n",
    "\n",
    "\n",
    "dtree_r2 = r2_score(y_true = y_test,\n",
    "                    y_pred = y_test_pred)\n",
    "\n",
    "print(\"R-squared:\", round(dtree_r2,3))\n",
    "\n",
    "dtree_r2 = mean_absolute_percentage_error(y_true = y_test,\n",
    "                    y_pred = y_test_pred)\n",
    "\n",
    "print(\"MAPE:\", round(dtree_r2,3))"
   ]
  },
  {
   "cell_type": "markdown",
   "metadata": {},
   "source": []
  },
  {
   "cell_type": "markdown",
   "metadata": {},
   "source": [
    "## RandomForest"
   ]
  },
  {
   "cell_type": "code",
   "execution_count": 612,
   "metadata": {},
   "outputs": [
    {
     "name": "stdout",
     "output_type": "stream",
     "text": [
      "Fitting 5 folds for each of 1 candidates, totalling 5 fits\n"
     ]
    },
    {
     "name": "stderr",
     "output_type": "stream",
     "text": [
      "/Users/Smirnov/anaconda3/lib/python3.11/site-packages/sklearn/ensemble/_forest.py:413: FutureWarning: `max_features='auto'` has been deprecated in 1.1 and will be removed in 1.3. To keep the past behaviour, explicitly set `max_features=1.0` or remove this parameter as it is also the default value for RandomForestRegressors and ExtraTreesRegressors.\n",
      "  warn(\n",
      "/Users/Smirnov/anaconda3/lib/python3.11/site-packages/sklearn/ensemble/_forest.py:413: FutureWarning: `max_features='auto'` has been deprecated in 1.1 and will be removed in 1.3. To keep the past behaviour, explicitly set `max_features=1.0` or remove this parameter as it is also the default value for RandomForestRegressors and ExtraTreesRegressors.\n",
      "  warn(\n",
      "/Users/Smirnov/anaconda3/lib/python3.11/site-packages/sklearn/ensemble/_forest.py:413: FutureWarning: `max_features='auto'` has been deprecated in 1.1 and will be removed in 1.3. To keep the past behaviour, explicitly set `max_features=1.0` or remove this parameter as it is also the default value for RandomForestRegressors and ExtraTreesRegressors.\n",
      "  warn(\n",
      "/Users/Smirnov/anaconda3/lib/python3.11/site-packages/sklearn/ensemble/_forest.py:413: FutureWarning: `max_features='auto'` has been deprecated in 1.1 and will be removed in 1.3. To keep the past behaviour, explicitly set `max_features=1.0` or remove this parameter as it is also the default value for RandomForestRegressors and ExtraTreesRegressors.\n",
      "  warn(\n",
      "/Users/Smirnov/anaconda3/lib/python3.11/site-packages/sklearn/ensemble/_forest.py:413: FutureWarning: `max_features='auto'` has been deprecated in 1.1 and will be removed in 1.3. To keep the past behaviour, explicitly set `max_features=1.0` or remove this parameter as it is also the default value for RandomForestRegressors and ExtraTreesRegressors.\n",
      "  warn(\n",
      "/Users/Smirnov/anaconda3/lib/python3.11/site-packages/sklearn/ensemble/_forest.py:413: FutureWarning: `max_features='auto'` has been deprecated in 1.1 and will be removed in 1.3. To keep the past behaviour, explicitly set `max_features=1.0` or remove this parameter as it is also the default value for RandomForestRegressors and ExtraTreesRegressors.\n",
      "  warn(\n"
     ]
    },
    {
     "name": "stdout",
     "output_type": "stream",
     "text": [
      "Best parameters:  {'columntransformer__num_pipe__selectkbest__k': 19, 'columntransformer__num_pipe__simpleimputer__strategy': 'median', 'columntransformer__num_pipe__variancethreshold__threshold': 0.005, 'randomforestregressor__criterion': 'poisson', 'randomforestregressor__max_depth': 8, 'randomforestregressor__max_features': 'auto', 'randomforestregressor__n_estimators': 200}\n",
      "{'rf': 0.8326449548383461}\n"
     ]
    }
   ],
   "source": [
    "from sklearn.ensemble import RandomForestRegressor\n",
    "from sklearn.model_selection import GridSearchCV\n",
    "from sklearn.pipeline import make_pipeline\n",
    "\n",
    "full_pipeline = make_pipeline(preprocessor, RandomForestRegressor())\n",
    "\n",
    "'''param_grid = {\n",
    "    'columntransformer__num_pipe__simpleimputer__strategy': ['median','mean'],\n",
    "    'columntransformer__num_pipe__selectkbest__k': range(5,30,2),\n",
    "    'columntransformer__num_pipe__variancethreshold__threshold':[0.005, 0.01, 0.02, 0.03],\n",
    "    'randomforestregressor__n_estimators': [200, 500], \n",
    "    'randomforestregressor__max_features': ['auto', 'sqrt', 'log2'], \n",
    "    'randomforestregressor__max_depth': [4, 5, 6, 7, 8], \n",
    "    'randomforestregressor__criterion': ['mse', 'mae', 'poisson', 'friedman_mse']\n",
    "}'''\n",
    "\n",
    "param_grid = {\n",
    "    'columntransformer__num_pipe__selectkbest__k': [19], \n",
    "    'columntransformer__num_pipe__simpleimputer__strategy': ['median'], \n",
    "    'columntransformer__num_pipe__variancethreshold__threshold': [0.005], \n",
    "    'randomforestregressor__criterion': ['poisson'], \n",
    "    'randomforestregressor__max_depth': [8], \n",
    "    'randomforestregressor__max_features': ['auto'], \n",
    "    'randomforestregressor__n_estimators': [200]}\n",
    "\n",
    "\n",
    "search3 = GridSearchCV(full_pipeline, param_grid, cv=5, verbose=1)\n",
    "\n",
    "search3.fit(X_train, y_train)\n",
    "\n",
    "scores3 = {\"rf\": search3.best_score_}\n",
    "print(\"Best parameters: \", search3.best_params_)\n",
    "print(scores3)\n"
   ]
  },
  {
   "cell_type": "markdown",
   "metadata": {},
   "source": [
    "Best parameters:  {'randomforestregressor__criterion': 'poisson', 'randomforestregressor__max_depth': 8, 'randomforestregressor__max_features': 'auto', 'randomforestregressor__n_estimators': 200}\n",
    "{'rf': 0.8212447308058735}"
   ]
  },
  {
   "cell_type": "markdown",
   "metadata": {},
   "source": [
    "Output is truncated. View as a scrollable element or open in a text editor. Adjust cell output settings...\n",
    "Best parameters:  {\n",
    "    'columntransformer__num_pipe__selectkbest__k': 19, \n",
    "    'columntransformer__num_pipe__simpleimputer__strategy': 'median', 'columntransformer__num_pipe__variancethreshold__threshold': 0.005, \n",
    "    'randomforestregressor__criterion': 'poisson', \n",
    "    'randomforestregressor__max_depth': 8, \n",
    "    'randomforestregressor__max_features': 'auto', \n",
    "    'randomforestregressor__n_estimators': 200}\n",
    "{'rf': 0.8384705128363066}"
   ]
  },
  {
   "cell_type": "markdown",
   "metadata": {},
   "source": [
    "## RandomForest - Analysis"
   ]
  },
  {
   "cell_type": "code",
   "execution_count": 602,
   "metadata": {},
   "outputs": [
    {
     "name": "stdout",
     "output_type": "stream",
     "text": [
      "R-squared: 0.871\n",
      "MAPE: 0.099\n"
     ]
    }
   ],
   "source": [
    "# Get predictions for the training and testing datasets\n",
    "y_train_pred = search3.predict(X_train)\n",
    "y_test_pred = search3.predict(X_test)\n",
    "\n",
    "\n",
    "dtree_r2 = r2_score(y_true = y_test,\n",
    "                    y_pred = y_test_pred)\n",
    "\n",
    "print(\"R-squared:\", round(dtree_r2,3))\n",
    "\n",
    "dtree_r2 = mean_absolute_percentage_error(y_true = y_test,\n",
    "                    y_pred = y_test_pred)\n",
    "\n",
    "print(\"MAPE:\", round(dtree_r2,3))"
   ]
  },
  {
   "cell_type": "markdown",
   "metadata": {},
   "source": [
    "### SGDRegressor"
   ]
  },
  {
   "cell_type": "code",
   "execution_count": 603,
   "metadata": {},
   "outputs": [
    {
     "name": "stdout",
     "output_type": "stream",
     "text": [
      "MAPE: 0.122\n",
      "R-squared: 0.844\n"
     ]
    }
   ],
   "source": [
    "from sklearn.linear_model import LinearRegression, SGDRegressor\n",
    "\n",
    "\n",
    "\n",
    "sgd_pipeline = make_pipeline(preprocessor,\n",
    "                            SGDRegressor())\n",
    "\n",
    "sgd_pipeline.fit(X_train, y_train)\n",
    "\n",
    "sgd_predictions = sgd_pipeline.predict(X_test)\n",
    "\n",
    "SGD_mape = mean_absolute_percentage_error(y_true = y_test,\n",
    "                    y_pred = sgd_predictions)\n",
    "\n",
    "print(\"MAPE:\", round(SGD_mape,3))\n",
    "\n",
    "SGR_r2 = r2_score(y_true = y_test,\n",
    "                    y_pred = sgd_predictions)\n",
    "\n",
    "print(\"R-squared:\", round(SGR_r2, 3))"
   ]
  },
  {
   "cell_type": "markdown",
   "metadata": {},
   "source": [
    "#### With KBest"
   ]
  },
  {
   "cell_type": "markdown",
   "metadata": {},
   "source": [
    "### LinearRegression"
   ]
  },
  {
   "cell_type": "code",
   "execution_count": 604,
   "metadata": {},
   "outputs": [
    {
     "name": "stdout",
     "output_type": "stream",
     "text": [
      "MAPE: 0.111\n",
      "R-squared: 0.881\n"
     ]
    }
   ],
   "source": [
    "# Scale the data! \n",
    "\n",
    "lr_pipeline = make_pipeline(preprocessor,\n",
    "                            LinearRegression())\n",
    "\n",
    "lr_pipeline.fit(X_train, y_train)\n",
    "\n",
    "lr_predictions = lr_pipeline.predict(X_test)\n",
    "\n",
    "lr_mape = mean_absolute_percentage_error(y_true = y_test,\n",
    "                    y_pred = lr_predictions)\n",
    "\n",
    "print(\"MAPE:\", round(lr_mape,3))\n",
    "\n",
    "lr_r2 = r2_score(y_true = y_test,\n",
    "                    y_pred = lr_predictions)\n",
    "\n",
    "print(\"R-squared:\", round(lr_r2,3))"
   ]
  },
  {
   "cell_type": "markdown",
   "metadata": {},
   "source": [
    "# Iteration 0"
   ]
  },
  {
   "cell_type": "code",
   "execution_count": 605,
   "metadata": {},
   "outputs": [
    {
     "data": {
      "text/html": [
       "<div>\n",
       "<style scoped>\n",
       "    .dataframe tbody tr th:only-of-type {\n",
       "        vertical-align: middle;\n",
       "    }\n",
       "\n",
       "    .dataframe tbody tr th {\n",
       "        vertical-align: top;\n",
       "    }\n",
       "\n",
       "    .dataframe thead th {\n",
       "        text-align: right;\n",
       "    }\n",
       "</style>\n",
       "<table border=\"1\" class=\"dataframe\">\n",
       "  <thead>\n",
       "    <tr style=\"text-align: right;\">\n",
       "      <th></th>\n",
       "      <th>decision_tree</th>\n",
       "      <th>knn</th>\n",
       "      <th>RF</th>\n",
       "      <th>SGDR</th>\n",
       "      <th>LR</th>\n",
       "    </tr>\n",
       "  </thead>\n",
       "  <tbody>\n",
       "    <tr>\n",
       "      <th>baseline</th>\n",
       "      <td>0.393</td>\n",
       "      <td>0.149</td>\n",
       "      <td>0.871</td>\n",
       "      <td>0.84</td>\n",
       "      <td>0.881</td>\n",
       "    </tr>\n",
       "  </tbody>\n",
       "</table>\n",
       "</div>"
      ],
      "text/plain": [
       "          decision_tree    knn     RF  SGDR     LR\n",
       "baseline          0.393  0.149  0.871  0.84  0.881"
      ]
     },
     "execution_count": 605,
     "metadata": {},
     "output_type": "execute_result"
    }
   ],
   "source": [
    "y_test_pred_tree = search.predict(X_test)\n",
    "y_test_pred_knn = search2.predict(X_test)\n",
    "y_test_pred_rf = search3.predict(X_test)\n",
    "y_test_pred_SGDR = sgd_pipeline.predict(X_test)\n",
    "y_test_pred_lr = lr_pipeline.predict(X_test)\n",
    "\n",
    "\n",
    "baseline_tree_r2 = r2_score(y_test, y_test_pred_tree)\n",
    "baseline_knn_r2 = r2_score(y_test, y_test_pred_knn)\n",
    "baseline_rf = r2_score(y_test, y_test_pred_rf)\n",
    "baseline_SGDR = r2_score(y_test, y_test_pred_SGDR)\n",
    "baseline_lr = r2_score(y_test, y_test_pred_lr)\n",
    "\n",
    "\n",
    "performances = pd.DataFrame({'decision_tree': round(baseline_tree_r2,3),\n",
    "                             'knn': round(baseline_knn_r2,3), \n",
    "                             'RF': round(baseline_rf,3),\n",
    "                             'SGDR': round(baseline_SGDR, 2),\n",
    "                            'LR': round(baseline_lr,3)},\n",
    "                            index=['baseline'])\n",
    "\n",
    "performances"
   ]
  },
  {
   "cell_type": "markdown",
   "metadata": {},
   "source": [
    "With out Threshold and Skaler\n",
    "\n",
    "| Model       | Decision Tree | KNN   | Random Forest | SGDR  | Logistic Regression |\n",
    "|-------------|---------------|-------|---------------|-------|----------------------|\n",
    "| Baseline    | 0.372         | -0.229 | 0.697         | -3.505539e+22  | 0.884               |"
   ]
  },
  {
   "cell_type": "markdown",
   "metadata": {},
   "source": [
    "With Threshold and Skaler\n",
    "\n",
    "| Model       | Decision Tree | KNN   | Random Forest | SGDR  | Logistic Regression |\n",
    "|-------------|---------------|-------|---------------|-------|----------------------|\n",
    "| Baseline    | 0.454         | 0.108 | 0.595         | 0.84  | 0.866                |\n"
   ]
  },
  {
   "cell_type": "markdown",
   "metadata": {},
   "source": [
    "With Threshold and Skaler and GridSearh\n",
    "\n",
    "| Model       | Decision Tree | KNN   | Random Forest | SGDR  | Logistic Regression |\n",
    "|-------------|---------------|-------|---------------|-------|----------------------|\n",
    "| Baseline    | 0.31           | 0.64 | 0.7           | 0.87  |   -7.169538e+19          |"
   ]
  },
  {
   "cell_type": "code",
   "execution_count": null,
   "metadata": {},
   "outputs": [
    {
     "name": "stdout",
     "output_type": "stream",
     "text": [
      "Readoy\n"
     ]
    }
   ],
   "source": [
    "print('Readoy')"
   ]
  },
  {
   "cell_type": "markdown",
   "metadata": {},
   "source": [
    "# Downloand"
   ]
  },
  {
   "cell_type": "code",
   "execution_count": 613,
   "metadata": {},
   "outputs": [],
   "source": [
    "X_sumbmition = test_housing_data\n",
    "ids_com['SalePrice'] = search3.predict(X_sumbmition) # only cange the piplene! \n",
    "ids_com.to_csv(r'submission_rdf_800.csv', index=False) #only cahnge ist"
   ]
  },
  {
   "cell_type": "markdown",
   "metadata": {},
   "source": []
  }
 ],
 "metadata": {
  "kernelspec": {
   "display_name": "Python 3 (ipykernel)",
   "language": "python",
   "name": "python3"
  },
  "language_info": {
   "codemirror_mode": {
    "name": "ipython",
    "version": 3
   },
   "file_extension": ".py",
   "mimetype": "text/x-python",
   "name": "python",
   "nbconvert_exporter": "python",
   "pygments_lexer": "ipython3",
   "version": "3.11.3"
  },
  "orig_nbformat": 4
 },
 "nbformat": 4,
 "nbformat_minor": 2
}
